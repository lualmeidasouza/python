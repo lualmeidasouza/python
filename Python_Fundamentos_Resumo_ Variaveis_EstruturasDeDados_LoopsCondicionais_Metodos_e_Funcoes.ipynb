{
 "cells": [
  {
   "cell_type": "markdown",
   "metadata": {},
   "source": [
    "## Variáveis - Estruturas de Dados - Loops - Condicionais - Métodos e Funções"
   ]
  },
  {
   "cell_type": "markdown",
   "metadata": {},
   "source": [
    "## Variáveis"
   ]
  },
  {
   "cell_type": "code",
   "execution_count": 1,
   "metadata": {},
   "outputs": [
    {
     "data": {
      "text/plain": [
       "10"
      ]
     },
     "execution_count": 1,
     "metadata": {},
     "output_type": "execute_result"
    }
   ],
   "source": [
    "#A variável a se torna uma variável do tipo inteiro.\n",
    "a=10\n",
    "a"
   ]
  },
  {
   "cell_type": "code",
   "execution_count": 2,
   "metadata": {},
   "outputs": [
    {
     "data": {
      "text/plain": [
       "1.2"
      ]
     },
     "execution_count": 2,
     "metadata": {},
     "output_type": "execute_result"
    }
   ],
   "source": [
    "#A variável b se torna uma variável do tipo float.\n",
    "b=1.2\n",
    "b"
   ]
  },
  {
   "cell_type": "code",
   "execution_count": 3,
   "metadata": {},
   "outputs": [
    {
     "data": {
      "text/plain": [
       "'Olá Mundo'"
      ]
     },
     "execution_count": 3,
     "metadata": {},
     "output_type": "execute_result"
    }
   ],
   "source": [
    "# a variável c se torna uma variável do tipo string.\n",
    "c = \"Olá Mundo\"\n",
    "c"
   ]
  },
  {
   "cell_type": "code",
   "execution_count": null,
   "metadata": {
    "scrolled": true
   },
   "outputs": [],
   "source": [
    "# solicitar ao usuário a atribuição de valor à variável\n",
    "nome = input(\"Entre com o seu nome:\")\n"
   ]
  },
  {
   "cell_type": "code",
   "execution_count": null,
   "metadata": {},
   "outputs": [],
   "source": [
    "# converte a entrada do usuário para inteiro\n",
    "numero = int(input(\"Entre com um número:\"))"
   ]
  },
  {
   "cell_type": "code",
   "execution_count": null,
   "metadata": {},
   "outputs": [],
   "source": [
    "# converte a entrada do usuário para inteiro\n",
    "numero = float(input(\"Entre com a sua altura:\"))"
   ]
  },
  {
   "cell_type": "markdown",
   "metadata": {},
   "source": [
    "## STRINGS"
   ]
  },
  {
   "cell_type": "code",
   "execution_count": null,
   "metadata": {},
   "outputs": [],
   "source": [
    "print(\"Olá Mundo\")"
   ]
  },
  {
   "cell_type": "markdown",
   "metadata": {},
   "source": [
    "## Concatenação de strings"
   ]
  },
  {
   "cell_type": "code",
   "execution_count": 4,
   "metadata": {},
   "outputs": [
    {
     "name": "stdout",
     "output_type": "stream",
     "text": [
      "Apostila Python\n",
      "Programação Python\n"
     ]
    }
   ],
   "source": [
    "print(\"Apostila\"+\" Python\")\n",
    "a='Programação '\n",
    "b='Python'\n",
    "c=a+b\n",
    "print(c)\n"
   ]
  },
  {
   "cell_type": "markdown",
   "metadata": {},
   "source": [
    "## Manipulação de strings"
   ]
  },
  {
   "cell_type": "code",
   "execution_count": 1,
   "metadata": {},
   "outputs": [
    {
     "data": {
      "text/plain": [
       "18"
      ]
     },
     "execution_count": 1,
     "metadata": {},
     "output_type": "execute_result"
    }
   ],
   "source": [
    "#len()\n",
    "#Retorna o tamanho da string.\n",
    "teste = \"Apostila de Python\"\n",
    "len(teste)"
   ]
  },
  {
   "cell_type": "code",
   "execution_count": 2,
   "metadata": {},
   "outputs": [
    {
     "data": {
      "text/plain": [
       "'Python'"
      ]
     },
     "execution_count": 2,
     "metadata": {},
     "output_type": "execute_result"
    }
   ],
   "source": [
    "#capitalize()\n",
    "#Retorna a string com a primeira letra maiúscula\n",
    "a = \"python\"\n",
    "a.capitalize()"
   ]
  },
  {
   "cell_type": "code",
   "execution_count": 5,
   "metadata": {},
   "outputs": [
    {
     "data": {
      "text/plain": [
       "2"
      ]
     },
     "execution_count": 5,
     "metadata": {},
     "output_type": "execute_result"
    }
   ],
   "source": [
    "#count()\n",
    "#Informa quantas vezes um caractere (ou uma se-quência de caracteres) aparece na string.\n",
    "b = \"Linguagem Python\"\n",
    "b.count(\"n\")\n"
   ]
  },
  {
   "cell_type": "code",
   "execution_count": 6,
   "metadata": {},
   "outputs": [
    {
     "data": {
      "text/plain": [
       "True"
      ]
     },
     "execution_count": 6,
     "metadata": {},
     "output_type": "execute_result"
    }
   ],
   "source": [
    "#startswith()\n",
    "#Verifica se uma string inicia com uma determinada sequência.\n",
    "c = \"Python\"\n",
    "c.startswith(\"Py\")\n"
   ]
  },
  {
   "cell_type": "code",
   "execution_count": 7,
   "metadata": {},
   "outputs": [
    {
     "data": {
      "text/plain": [
       "False"
      ]
     },
     "execution_count": 7,
     "metadata": {},
     "output_type": "execute_result"
    }
   ],
   "source": [
    "#endswith()\n",
    "#Verifica se uma string termina com uma determinada sequência.\n",
    "d = \"Python\"\n",
    "d.endswith(\"Py\")"
   ]
  },
  {
   "cell_type": "code",
   "execution_count": 8,
   "metadata": {},
   "outputs": [
    {
     "data": {
      "text/plain": [
       "False"
      ]
     },
     "execution_count": 8,
     "metadata": {},
     "output_type": "execute_result"
    }
   ],
   "source": [
    "#isalnum() \n",
    "#Verifica se a string possui algum conteúdo alfanumérico (letra ou número).\n",
    "e = \"!@#$%\"\n",
    "e.isalnum()"
   ]
  },
  {
   "cell_type": "code",
   "execution_count": 9,
   "metadata": {},
   "outputs": [
    {
     "data": {
      "text/plain": [
       "True"
      ]
     },
     "execution_count": 9,
     "metadata": {},
     "output_type": "execute_result"
    }
   ],
   "source": [
    "#isalpha()\n",
    "#Verifica se a string possui apenas conteúdo alfabético.\n",
    "f = \"Python\"\n",
    "f.isalpha()\n"
   ]
  },
  {
   "cell_type": "code",
   "execution_count": 10,
   "metadata": {},
   "outputs": [
    {
     "data": {
      "text/plain": [
       "False"
      ]
     },
     "execution_count": 10,
     "metadata": {},
     "output_type": "execute_result"
    }
   ],
   "source": [
    "#islower()\n",
    "#Verifica se todas as letras de uma string são minúsculas.\n",
    "g = \"pytHon\"\n",
    "g.islower()"
   ]
  },
  {
   "cell_type": "code",
   "execution_count": 11,
   "metadata": {},
   "outputs": [
    {
     "data": {
      "text/plain": [
       "True"
      ]
     },
     "execution_count": 11,
     "metadata": {},
     "output_type": "execute_result"
    }
   ],
   "source": [
    "#isupper()\n",
    "#Verifica se todas as letras de uma string são maiúsculas.\n",
    "h = \"# PYTHON 12\"\n",
    "h.isupper()"
   ]
  },
  {
   "cell_type": "code",
   "execution_count": 12,
   "metadata": {},
   "outputs": [
    {
     "data": {
      "text/plain": [
       "'#python 3'"
      ]
     },
     "execution_count": 12,
     "metadata": {},
     "output_type": "execute_result"
    }
   ],
   "source": [
    "#lower()\n",
    "#Retorna uma cópia da string trocando todas as letras para minúsculo.\n",
    "i = \"#PYTHON 3\"\n",
    "i.lower()"
   ]
  },
  {
   "cell_type": "code",
   "execution_count": 13,
   "metadata": {},
   "outputs": [
    {
     "data": {
      "text/plain": [
       "'PYTHON'"
      ]
     },
     "execution_count": 13,
     "metadata": {},
     "output_type": "execute_result"
    }
   ],
   "source": [
    "#upper()\n",
    "#Retorna uma cópia da string trocando todas as letras para maiúsculo.\n",
    "j = \"Python\"\n",
    "j.upper()"
   ]
  },
  {
   "cell_type": "code",
   "execution_count": 14,
   "metadata": {},
   "outputs": [
    {
     "data": {
      "text/plain": [
       "'pYTHON'"
      ]
     },
     "execution_count": 14,
     "metadata": {},
     "output_type": "execute_result"
    }
   ],
   "source": [
    "#swapcase()\n",
    "#Inverte o conteúdo da string (Minúsculo / Maiúsculo).\n",
    "k = \"Python\"\n",
    "k.swapcase()"
   ]
  },
  {
   "cell_type": "code",
   "execution_count": 17,
   "metadata": {},
   "outputs": [
    {
     "data": {
      "text/plain": [
       "'Apostila De Python'"
      ]
     },
     "execution_count": 17,
     "metadata": {},
     "output_type": "execute_result"
    }
   ],
   "source": [
    "#title()\n",
    "#Converte para maiúsculo todas as primeiras letras de cada palavra da string.\n",
    "l = \"apostila de python\"\n",
    "l.title()"
   ]
  },
  {
   "cell_type": "code",
   "execution_count": 18,
   "metadata": {},
   "outputs": [
    {
     "data": {
      "text/plain": [
       "['cana', 'de', 'açúcar']"
      ]
     },
     "execution_count": 18,
     "metadata": {},
     "output_type": "execute_result"
    }
   ],
   "source": [
    "#split()\n",
    "#Transforma a string em uma lista, utilizando os espaços como referência.\n",
    "m = \"cana de açúcar\"\n",
    "m.split()"
   ]
  },
  {
   "cell_type": "code",
   "execution_count": 19,
   "metadata": {},
   "outputs": [
    {
     "data": {
      "text/plain": [
       "'Apostila Python'"
      ]
     },
     "execution_count": 19,
     "metadata": {},
     "output_type": "execute_result"
    }
   ],
   "source": [
    "#replace(S1, S2)\n",
    "#Substitui na string o trecho S1 pelo trecho S2.\n",
    "n = \"Apostila teste\"\n",
    "n.replace(\"teste\", \"Python\")"
   ]
  },
  {
   "cell_type": "code",
   "execution_count": 23,
   "metadata": {},
   "outputs": [
    {
     "data": {
      "text/plain": [
       "3"
      ]
     },
     "execution_count": 23,
     "metadata": {},
     "output_type": "execute_result"
    }
   ],
   "source": [
    "#find()\n",
    "#Retorna o índice da primeira ocorrência de um determinado caractere na string. \n",
    "#Se o caractere não estiver na string retorna -1.\n",
    "o = \"Python\"\n",
    "o.find(\"h\")"
   ]
  },
  {
   "cell_type": "code",
   "execution_count": 21,
   "metadata": {},
   "outputs": [
    {
     "data": {
      "text/plain": [
       "-1"
      ]
     },
     "execution_count": 21,
     "metadata": {},
     "output_type": "execute_result"
    }
   ],
   "source": [
    "o = \"Python\"\n",
    "o.find(\"a\")"
   ]
  },
  {
   "cell_type": "code",
   "execution_count": 24,
   "metadata": {},
   "outputs": [
    {
     "data": {
      "text/plain": [
       "' Python        '"
      ]
     },
     "execution_count": 24,
     "metadata": {},
     "output_type": "execute_result"
    }
   ],
   "source": [
    "#ljust()\n",
    "#Ajusta a string para um tamanho mínimo à esquerda\n",
    "#Acrescentando espaços à direita se necessário.\n",
    "p = \" Python\"\n",
    "p.ljust(15)"
   ]
  },
  {
   "cell_type": "code",
   "execution_count": 25,
   "metadata": {},
   "outputs": [
    {
     "data": {
      "text/plain": [
       "'         Python'"
      ]
     },
     "execution_count": 25,
     "metadata": {},
     "output_type": "execute_result"
    }
   ],
   "source": [
    "#rjust()\n",
    "#Ajusta a string para um tamanho mínimo à direita\n",
    "#Acrescen-tando espaços à esquerda se necessário.\n",
    "q = \"Python\"\n",
    "q.rjust(15)"
   ]
  },
  {
   "cell_type": "code",
   "execution_count": 26,
   "metadata": {},
   "outputs": [
    {
     "data": {
      "text/plain": [
       "'  Python  '"
      ]
     },
     "execution_count": 26,
     "metadata": {},
     "output_type": "execute_result"
    }
   ],
   "source": [
    "#center()\n",
    "#Ajusta a string para um tamanho mínimo\n",
    "#Acrescentando espaços à esquerda e à direita, se necessário.\n",
    "r = \"Python\"\n",
    "r.center(10)"
   ]
  },
  {
   "cell_type": "code",
   "execution_count": 27,
   "metadata": {},
   "outputs": [
    {
     "data": {
      "text/plain": [
       "'Python '"
      ]
     },
     "execution_count": 27,
     "metadata": {},
     "output_type": "execute_result"
    }
   ],
   "source": [
    "#lstrip() \n",
    "#Remove todos os espaços em branco do lado esquerdo da string.\n",
    "s = \" Python \"\n",
    "s.lstrip()"
   ]
  },
  {
   "cell_type": "code",
   "execution_count": 29,
   "metadata": {},
   "outputs": [
    {
     "data": {
      "text/plain": [
       "' Python'"
      ]
     },
     "execution_count": 29,
     "metadata": {},
     "output_type": "execute_result"
    }
   ],
   "source": [
    "#rstrip()\n",
    "#Remove todos os espaços em branco do lado direito da string.\n",
    "t = \" Python \"\n",
    "t.rstrip()"
   ]
  },
  {
   "cell_type": "code",
   "execution_count": 30,
   "metadata": {},
   "outputs": [
    {
     "data": {
      "text/plain": [
       "'Python'"
      ]
     },
     "execution_count": 30,
     "metadata": {},
     "output_type": "execute_result"
    }
   ],
   "source": [
    "#strip()\n",
    "#Remove todos os espaços em branco da string.\n",
    "u = \" Python \"\n",
    "u.strip()"
   ]
  },
  {
   "cell_type": "markdown",
   "metadata": {},
   "source": [
    "## Fatiamento de Strings"
   ]
  },
  {
   "cell_type": "code",
   "execution_count": 33,
   "metadata": {},
   "outputs": [],
   "source": [
    "#O fatiamento é uma ferramenta usada para extrair apenas uma parte dos elementos de uma string.\n",
    "\n",
    "#Retorna uma string com os elementos das posições do limite inferior até o limite superior - 1."
   ]
  },
  {
   "cell_type": "code",
   "execution_count": 34,
   "metadata": {},
   "outputs": [
    {
     "data": {
      "text/plain": [
       "'yth'"
      ]
     },
     "execution_count": 34,
     "metadata": {},
     "output_type": "execute_result"
    }
   ],
   "source": [
    "#seleciona os elementos das posições 1,2,3\n",
    "s = \"Python\"\n",
    "s[1:4] "
   ]
  },
  {
   "cell_type": "code",
   "execution_count": 35,
   "metadata": {},
   "outputs": [
    {
     "data": {
      "text/plain": [
       "'thon'"
      ]
     },
     "execution_count": 35,
     "metadata": {},
     "output_type": "execute_result"
    }
   ],
   "source": [
    "#seleciona os elementos a partir da posição 2\n",
    "s = \"Python\"\n",
    "s[2:]"
   ]
  },
  {
   "cell_type": "code",
   "execution_count": 36,
   "metadata": {},
   "outputs": [
    {
     "data": {
      "text/plain": [
       "'Pyth'"
      ]
     },
     "execution_count": 36,
     "metadata": {},
     "output_type": "execute_result"
    }
   ],
   "source": [
    "#seleciona os elementos até a posição 3\n",
    "s=\"Python\"\n",
    "s[:4]\n"
   ]
  },
  {
   "cell_type": "markdown",
   "metadata": {},
   "source": [
    "## Exercícios de Strings"
   ]
  },
  {
   "cell_type": "code",
   "execution_count": 38,
   "metadata": {},
   "outputs": [
    {
     "data": {
      "text/plain": [
       "'elefante incomoda'"
      ]
     },
     "execution_count": 38,
     "metadata": {},
     "output_type": "execute_result"
    }
   ],
   "source": [
    "#1) Considere a string A = \"Um elefante incomoda muita gente\".\n",
    "#Que fatua correspnde a \"elefante incomoda\"\n",
    "A[3:20]"
   ]
  },
  {
   "cell_type": "code",
   "execution_count": 52,
   "metadata": {},
   "outputs": [
    {
     "name": "stdout",
     "output_type": "stream",
     "text": [
      "Digite algo aqui:Luciana Almeida da Silveira    abc\n",
      "LUCIANAALMEIDADASILVEIRAABC\n"
     ]
    }
   ],
   "source": [
    "#2) Escreva um programa que solicite uma frase ao usuário e escreva a frase toda em maiúscula \n",
    "#e sem espaços em branco\n",
    "frase = input(\"Digite algo aqui:\")\n",
    "frase_sem_espacos = frase.replace(' ', '')\n",
    "frase_maiuscula = frase_sem_espacos.upper()\n",
    "print(frase_maiuscula)\n"
   ]
  },
  {
   "cell_type": "markdown",
   "metadata": {},
   "source": [
    "## NÚMEROS"
   ]
  },
  {
   "cell_type": "code",
   "execution_count": null,
   "metadata": {},
   "outputs": [],
   "source": [
    "#Os quatro tipos numéricos simples, utilizados em Python, são:\n",
    "\"\"\"\n",
    "#números inteiros (int)\n",
    "#números longos (long)\n",
    "#números decimais (float)\n",
    "#números complexos (complex)\n",
    "\"\"\""
   ]
  },
  {
   "cell_type": "markdown",
   "metadata": {},
   "source": [
    "## Operadores Numéricos"
   ]
  },
  {
   "cell_type": "code",
   "execution_count": null,
   "metadata": {},
   "outputs": [],
   "source": [
    "#Operadores aritméticos, lógicos, de comparação e de bit."
   ]
  },
  {
   "cell_type": "markdown",
   "metadata": {},
   "source": [
    "## Operadores Aritméticos"
   ]
  },
  {
   "cell_type": "code",
   "execution_count": 53,
   "metadata": {},
   "outputs": [
    {
     "data": {
      "text/plain": [
       "10"
      ]
     },
     "execution_count": 53,
     "metadata": {},
     "output_type": "execute_result"
    }
   ],
   "source": [
    "#Soma\n",
    "5+5\n"
   ]
  },
  {
   "cell_type": "code",
   "execution_count": 54,
   "metadata": {},
   "outputs": [
    {
     "data": {
      "text/plain": [
       "5"
      ]
     },
     "execution_count": 54,
     "metadata": {},
     "output_type": "execute_result"
    }
   ],
   "source": [
    "#Subtração\n",
    "7-2"
   ]
  },
  {
   "cell_type": "code",
   "execution_count": 55,
   "metadata": {},
   "outputs": [
    {
     "data": {
      "text/plain": [
       "4"
      ]
     },
     "execution_count": 55,
     "metadata": {},
     "output_type": "execute_result"
    }
   ],
   "source": [
    "#Multiplicação\n",
    "2*2"
   ]
  },
  {
   "cell_type": "code",
   "execution_count": 56,
   "metadata": {},
   "outputs": [
    {
     "data": {
      "text/plain": [
       "2.0"
      ]
     },
     "execution_count": 56,
     "metadata": {},
     "output_type": "execute_result"
    }
   ],
   "source": [
    "#Divisão\n",
    "4/2"
   ]
  },
  {
   "cell_type": "code",
   "execution_count": 57,
   "metadata": {},
   "outputs": [
    {
     "data": {
      "text/plain": [
       "1"
      ]
     },
     "execution_count": 57,
     "metadata": {},
     "output_type": "execute_result"
    }
   ],
   "source": [
    "#Resto da Divisão\n",
    "10%3"
   ]
  },
  {
   "cell_type": "code",
   "execution_count": 58,
   "metadata": {},
   "outputs": [
    {
     "data": {
      "text/plain": [
       "16"
      ]
     },
     "execution_count": 58,
     "metadata": {},
     "output_type": "execute_result"
    }
   ],
   "source": [
    "#Potência\n",
    "4**2"
   ]
  },
  {
   "cell_type": "markdown",
   "metadata": {},
   "source": [
    "## Operadores de Comparação"
   ]
  },
  {
   "cell_type": "code",
   "execution_count": 2,
   "metadata": {},
   "outputs": [
    {
     "data": {
      "text/plain": [
       "True"
      ]
     },
     "execution_count": 2,
     "metadata": {},
     "output_type": "execute_result"
    }
   ],
   "source": [
    "#Menor que\n",
    "a=5\n",
    "a<10"
   ]
  },
  {
   "cell_type": "code",
   "execution_count": 3,
   "metadata": {},
   "outputs": [
    {
     "data": {
      "text/plain": [
       "True"
      ]
     },
     "execution_count": 3,
     "metadata": {},
     "output_type": "execute_result"
    }
   ],
   "source": [
    "#Menor ou igual\n",
    "a=10\n",
    "a<=10"
   ]
  },
  {
   "cell_type": "code",
   "execution_count": 4,
   "metadata": {},
   "outputs": [
    {
     "data": {
      "text/plain": [
       "True"
      ]
     },
     "execution_count": 4,
     "metadata": {},
     "output_type": "execute_result"
    }
   ],
   "source": [
    "#Maior que\n",
    "c=5\n",
    "c>2"
   ]
  },
  {
   "cell_type": "code",
   "execution_count": 6,
   "metadata": {},
   "outputs": [
    {
     "data": {
      "text/plain": [
       "True"
      ]
     },
     "execution_count": 6,
     "metadata": {},
     "output_type": "execute_result"
    }
   ],
   "source": [
    "#Maior ou igual\n",
    "d=8\n",
    "d>=8"
   ]
  },
  {
   "cell_type": "code",
   "execution_count": 7,
   "metadata": {},
   "outputs": [
    {
     "data": {
      "text/plain": [
       "True"
      ]
     },
     "execution_count": 7,
     "metadata": {},
     "output_type": "execute_result"
    }
   ],
   "source": [
    "#Igual\n",
    "e=5 #atribuição\n",
    "e==5 #igualdade"
   ]
  },
  {
   "cell_type": "code",
   "execution_count": 8,
   "metadata": {},
   "outputs": [
    {
     "data": {
      "text/plain": [
       "True"
      ]
     },
     "execution_count": 8,
     "metadata": {},
     "output_type": "execute_result"
    }
   ],
   "source": [
    "#Diferente\n",
    "f=10\n",
    "f!=12"
   ]
  },
  {
   "cell_type": "markdown",
   "metadata": {},
   "source": [
    "## Operadores Lógicos"
   ]
  },
  {
   "cell_type": "code",
   "execution_count": 9,
   "metadata": {},
   "outputs": [
    {
     "data": {
      "text/plain": [
       "False"
      ]
     },
     "execution_count": 9,
     "metadata": {},
     "output_type": "execute_result"
    }
   ],
   "source": [
    "#Not\n",
    "not a "
   ]
  },
  {
   "cell_type": "code",
   "execution_count": 10,
   "metadata": {},
   "outputs": [
    {
     "data": {
      "text/plain": [
       "True"
      ]
     },
     "execution_count": 10,
     "metadata": {},
     "output_type": "execute_result"
    }
   ],
   "source": [
    "#And\n",
    "a=10\n",
    "c=5\n",
    "(a<=10)and(c==5)"
   ]
  },
  {
   "cell_type": "code",
   "execution_count": 11,
   "metadata": {},
   "outputs": [
    {
     "data": {
      "text/plain": [
       "True"
      ]
     },
     "execution_count": 11,
     "metadata": {},
     "output_type": "execute_result"
    }
   ],
   "source": [
    "#Or\n",
    "a=10\n",
    "c=8\n",
    "(a<=10)or(c==5)"
   ]
  },
  {
   "cell_type": "markdown",
   "metadata": {},
   "source": [
    "## Exercícios de Números"
   ]
  },
  {
   "cell_type": "code",
   "execution_count": 12,
   "metadata": {},
   "outputs": [
    {
     "name": "stdout",
     "output_type": "stream",
     "text": [
      "Digite o valor de x:10\n",
      "Digite o valor de y:20\n",
      "z=  5.0\n"
     ]
    }
   ],
   "source": [
    "#1) Escreva um programa que receba 2 valores do tipo inteiro x e y, e calcule o valor de z:\n",
    "x=float(input(\"Digite o valor de x:\"))\n",
    "y=float(input(\"Digite o valor de y:\"))\n",
    "z=(x**2+y**2)/(x-y)**2\n",
    "print(\"z= \", z)"
   ]
  },
  {
   "cell_type": "code",
   "execution_count": 16,
   "metadata": {},
   "outputs": [
    {
     "name": "stdout",
     "output_type": "stream",
     "text": [
      "Digite o salário atual:5000.00\n",
      "Novo salário = R$ 6750.00\n"
     ]
    }
   ],
   "source": [
    "#2)Escreva um programa que receba o salário de um funcionário (float), \n",
    "#e retorne o resultado do novo salários com reajuste de 35%\n",
    "salario = float(input(\"Digite o salário atual:\"))\n",
    "novo_salario = salario*1.35\n",
    "print(\"Novo salário = R$ %.2f\" %novo_salario)"
   ]
  },
  {
   "cell_type": "markdown",
   "metadata": {},
   "source": [
    "## LISTAS"
   ]
  },
  {
   "cell_type": "code",
   "execution_count": 17,
   "metadata": {},
   "outputs": [],
   "source": [
    "#Lista é um conjunto sequencial de valores, onde cada valor é identificado através de um índice.\n",
    "\"\"\"\n",
    "O primeiro valor tem índice 0. Uma lista em Python é declarada da seguinte forma:\n",
    "\n",
    "    Nome_Lista = [valor1, valor2, ..., valorN]\n",
    "\n",
    "Uma lista pode ter valores de qualquer tipo, incluindo outras listas.\n",
    "\"\"\""
   ]
  },
  {
   "cell_type": "code",
   "execution_count": 25,
   "metadata": {},
   "outputs": [
    {
     "name": "stdout",
     "output_type": "stream",
     "text": [
      "[3, 'abacate', 9.7, [5, 6, 3], 'Python', (3, 'j')]\n",
      "9.7\n"
     ]
    }
   ],
   "source": [
    "L=[3,'abacate',9.7,[5,6,3],\"Python\", (3,'j')]\n",
    "print(L)\n",
    "print(L[2])"
   ]
  },
  {
   "cell_type": "code",
   "execution_count": 21,
   "metadata": {},
   "outputs": [
    {
     "name": "stdout",
     "output_type": "stream",
     "text": [
      "[5, 6, 3]\n"
     ]
    }
   ],
   "source": [
    "print(L[3])"
   ]
  },
  {
   "cell_type": "code",
   "execution_count": 22,
   "metadata": {},
   "outputs": [
    {
     "name": "stdout",
     "output_type": "stream",
     "text": [
      "6\n"
     ]
    }
   ],
   "source": [
    "print(L[3][1])"
   ]
  },
  {
   "cell_type": "code",
   "execution_count": 26,
   "metadata": {},
   "outputs": [
    {
     "name": "stdout",
     "output_type": "stream",
     "text": [
      "[3, 'abacate', 9.7, 'morango', 'Python', (3, 'j')]\n"
     ]
    }
   ],
   "source": [
    "#Alteração de elemento da lista, atribuição de valor através do índice:\n",
    "L[3]='morango'\n",
    "print(L)"
   ]
  },
  {
   "cell_type": "code",
   "execution_count": 28,
   "metadata": {},
   "outputs": [],
   "source": [
    "#A tentativa de acesso a um índice inexistente resultará em erro\n",
    "L[7] = 'banana'"
   ]
  },
  {
   "cell_type": "markdown",
   "metadata": {},
   "source": [
    "## Funções para manipulação de listas"
   ]
  },
  {
   "cell_type": "code",
   "execution_count": 29,
   "metadata": {},
   "outputs": [
    {
     "data": {
      "text/plain": [
       "4"
      ]
     },
     "execution_count": 29,
     "metadata": {},
     "output_type": "execute_result"
    }
   ],
   "source": [
    "#len()\n",
    "#retorna o tamanho da lista\n",
    "L=[1,2,3,4]\n",
    "len(L)"
   ]
  },
  {
   "cell_type": "code",
   "execution_count": 30,
   "metadata": {},
   "outputs": [
    {
     "data": {
      "text/plain": [
       "10"
      ]
     },
     "execution_count": 30,
     "metadata": {},
     "output_type": "execute_result"
    }
   ],
   "source": [
    "#min()\n",
    "#retorna o menor valor da lista\n",
    "L=[10,40,30,20]\n",
    "min(L)"
   ]
  },
  {
   "cell_type": "code",
   "execution_count": 31,
   "metadata": {},
   "outputs": [
    {
     "data": {
      "text/plain": [
       "40"
      ]
     },
     "execution_count": 31,
     "metadata": {},
     "output_type": "execute_result"
    }
   ],
   "source": [
    "#max()\n",
    "#retorna o maior valor da lista\n",
    "L=[10,40,30,20]\n",
    "max(L)"
   ]
  },
  {
   "cell_type": "code",
   "execution_count": 32,
   "metadata": {},
   "outputs": [
    {
     "data": {
      "text/plain": [
       "60"
      ]
     },
     "execution_count": 32,
     "metadata": {},
     "output_type": "execute_result"
    }
   ],
   "source": [
    "#sum\n",
    "#retorna a soma dos elementos da lista\n",
    "L=[10,20,30]\n",
    "sum(L)"
   ]
  },
  {
   "cell_type": "code",
   "execution_count": 34,
   "metadata": {},
   "outputs": [
    {
     "data": {
      "text/plain": [
       "[1, 2, 3, 100]"
      ]
     },
     "execution_count": 34,
     "metadata": {},
     "output_type": "execute_result"
    }
   ],
   "source": [
    "#append\n",
    "#adiciona um novo valor no final da lista\n",
    "L=[1,2,3]\n",
    "L.append(100)\n",
    "L"
   ]
  },
  {
   "cell_type": "code",
   "execution_count": 37,
   "metadata": {},
   "outputs": [
    {
     "data": {
      "text/plain": [
       "[0, 1, 2, 3, 4, 5]"
      ]
     },
     "execution_count": 37,
     "metadata": {},
     "output_type": "execute_result"
    }
   ],
   "source": [
    "#extend \n",
    "#insere uma lista no final de outra lista\n",
    "L=[0,1,2]\n",
    "L.extend([3,4,5])\n",
    "L"
   ]
  },
  {
   "cell_type": "code",
   "execution_count": 38,
   "metadata": {},
   "outputs": [
    {
     "data": {
      "text/plain": [
       "[1, 3, 4]"
      ]
     },
     "execution_count": 38,
     "metadata": {},
     "output_type": "execute_result"
    }
   ],
   "source": [
    "#del\n",
    "#remove um elemento da lista, dado seu índice\n",
    "L=[1,2,3,4]\n",
    "del L[1]\n",
    "L"
   ]
  },
  {
   "cell_type": "code",
   "execution_count": 39,
   "metadata": {},
   "outputs": [
    {
     "data": {
      "text/plain": [
       "True"
      ]
     },
     "execution_count": 39,
     "metadata": {},
     "output_type": "execute_result"
    }
   ],
   "source": [
    "#in\n",
    "#verifica se um valor pertence à lista\n",
    "L=[1,2,3,4]\n",
    "3 in L"
   ]
  },
  {
   "cell_type": "code",
   "execution_count": 40,
   "metadata": {},
   "outputs": [
    {
     "data": {
      "text/plain": [
       "[3, 5, 2, 4, 1, 0]"
      ]
     },
     "execution_count": 40,
     "metadata": {},
     "output_type": "execute_result"
    }
   ],
   "source": [
    "#sort()\n",
    "#ordena em ordem crescente\n",
    "L=[3,5,2,4,1,0]\n",
    "L.sort\n",
    "L"
   ]
  },
  {
   "cell_type": "code",
   "execution_count": 41,
   "metadata": {},
   "outputs": [
    {
     "data": {
      "text/plain": [
       "[5, 4, 3, 2, 1, 0]"
      ]
     },
     "execution_count": 41,
     "metadata": {},
     "output_type": "execute_result"
    }
   ],
   "source": [
    "#reverse()\n",
    "#inverte os elementos de uma lista\n",
    "L=[0,1,2,3,4,5]\n",
    "L.reverse()\n",
    "L"
   ]
  },
  {
   "cell_type": "markdown",
   "metadata": {},
   "source": [
    "## Operação com listas"
   ]
  },
  {
   "cell_type": "code",
   "execution_count": 43,
   "metadata": {},
   "outputs": [
    {
     "name": "stdout",
     "output_type": "stream",
     "text": [
      "[0, 1, 2, 3, 4, 5]\n"
     ]
    }
   ],
   "source": [
    "#Concatenação(+)\n",
    "a=[0,1,2]\n",
    "b=[ 3,4,5]\n",
    "c=a+b\n",
    "print(c)"
   ]
  },
  {
   "cell_type": "code",
   "execution_count": 44,
   "metadata": {},
   "outputs": [
    {
     "name": "stdout",
     "output_type": "stream",
     "text": [
      "[1, 2, 1, 2, 1, 2, 1, 2]\n"
     ]
    }
   ],
   "source": [
    "#Repetição(*)\n",
    "L=[1,2]\n",
    "R=L*4\n",
    "print(R)\n"
   ]
  },
  {
   "cell_type": "code",
   "execution_count": 50,
   "metadata": {},
   "outputs": [
    {
     "data": {
      "text/plain": [
       "['abacate', 9.7, [5, 6, 3]]"
      ]
     },
     "execution_count": 50,
     "metadata": {},
     "output_type": "execute_result"
    }
   ],
   "source": [
    "#Fatiamento de Listas\n",
    "#Semelhante ao fatiamento de strings\n",
    "L=[3,'abacate', 9.7, [5,6,3], \"Python\", (3,'j')]\n",
    "L[1:4]\n",
    "\n"
   ]
  },
  {
   "cell_type": "code",
   "execution_count": 51,
   "metadata": {},
   "outputs": [
    {
     "data": {
      "text/plain": [
       "[9.7, [5, 6, 3], 'Python', (3, 'j')]"
      ]
     },
     "execution_count": 51,
     "metadata": {},
     "output_type": "execute_result"
    }
   ],
   "source": [
    "L[2:]"
   ]
  },
  {
   "cell_type": "code",
   "execution_count": 52,
   "metadata": {},
   "outputs": [
    {
     "data": {
      "text/plain": [
       "[3, 'abacate', 9.7, [5, 6, 3]]"
      ]
     },
     "execution_count": 52,
     "metadata": {},
     "output_type": "execute_result"
    }
   ],
   "source": [
    "L[:4]"
   ]
  },
  {
   "cell_type": "markdown",
   "metadata": {},
   "source": [
    "## Criação de Listas com Range"
   ]
  },
  {
   "cell_type": "code",
   "execution_count": 54,
   "metadata": {},
   "outputs": [
    {
     "data": {
      "text/plain": [
       "'\\nAssociada a list(), cria uma lista com os valores do intervalo.\\nA função range() pode ter de 1 a 3 parâmetros:\\n    range(n) --> gera um intervalo de 0 a n-1\\n    range(i,n) --> gera um intervalo de i a n-1\\n    range(i, n, p) --> gera um intervalo de i a n-1 com intervalo p entre os números\\n'"
      ]
     },
     "execution_count": 54,
     "metadata": {},
     "output_type": "execute_result"
    }
   ],
   "source": [
    "#A função range() define um intervalo de valores inteiros. \n",
    "\"\"\"\n",
    "Associada a list(), cria uma lista com os valores do intervalo.\n",
    "A função range() pode ter de 1 a 3 parâmetros:\n",
    "    range(n) --> gera um intervalo de 0 a n-1\n",
    "    range(i,n) --> gera um intervalo de i a n-1\n",
    "    range(i, n, p) --> gera um intervalo de i a n-1 com intervalo p entre os números\n",
    "\"\"\"  "
   ]
  },
  {
   "cell_type": "code",
   "execution_count": 55,
   "metadata": {},
   "outputs": [
    {
     "name": "stdout",
     "output_type": "stream",
     "text": [
      "[0, 1, 2, 3, 4]\n"
     ]
    }
   ],
   "source": [
    "L1 = list(range(5))\n",
    "print(L1)"
   ]
  },
  {
   "cell_type": "code",
   "execution_count": 56,
   "metadata": {},
   "outputs": [
    {
     "name": "stdout",
     "output_type": "stream",
     "text": [
      "[3, 4, 5, 6, 7]\n"
     ]
    }
   ],
   "source": [
    "L2 = list(range(3,8))\n",
    "print(L2)        "
   ]
  },
  {
   "cell_type": "code",
   "execution_count": 57,
   "metadata": {},
   "outputs": [
    {
     "name": "stdout",
     "output_type": "stream",
     "text": [
      "[2, 5, 8]\n"
     ]
    }
   ],
   "source": [
    "L3=list(range(2,11,3))\n",
    "print(L3)"
   ]
  },
  {
   "cell_type": "markdown",
   "metadata": {},
   "source": [
    "## Exercícios de Listas"
   ]
  },
  {
   "cell_type": "code",
   "execution_count": 59,
   "metadata": {},
   "outputs": [
    {
     "data": {
      "text/plain": [
       "[5, 7, 2, 9, 4, 1, 3]"
      ]
     },
     "execution_count": 59,
     "metadata": {},
     "output_type": "execute_result"
    }
   ],
   "source": [
    "L=[5,7,2,9,4,1,3]\n",
    "L"
   ]
  },
  {
   "cell_type": "code",
   "execution_count": 60,
   "metadata": {},
   "outputs": [
    {
     "data": {
      "text/plain": [
       "7"
      ]
     },
     "execution_count": 60,
     "metadata": {},
     "output_type": "execute_result"
    }
   ],
   "source": [
    "#tamanho da lista\n",
    "len(L)"
   ]
  },
  {
   "cell_type": "code",
   "execution_count": 61,
   "metadata": {},
   "outputs": [
    {
     "data": {
      "text/plain": [
       "9"
      ]
     },
     "execution_count": 61,
     "metadata": {},
     "output_type": "execute_result"
    }
   ],
   "source": [
    "#maior valor da lista\n",
    "max(L)"
   ]
  },
  {
   "cell_type": "code",
   "execution_count": 62,
   "metadata": {},
   "outputs": [
    {
     "data": {
      "text/plain": [
       "1"
      ]
     },
     "execution_count": 62,
     "metadata": {},
     "output_type": "execute_result"
    }
   ],
   "source": [
    "#menor valor da lista\n",
    "min(L)"
   ]
  },
  {
   "cell_type": "code",
   "execution_count": 63,
   "metadata": {},
   "outputs": [
    {
     "data": {
      "text/plain": [
       "31"
      ]
     },
     "execution_count": 63,
     "metadata": {},
     "output_type": "execute_result"
    }
   ],
   "source": [
    "#soma de todos os elementos da lista\n",
    "sum(L)"
   ]
  },
  {
   "cell_type": "code",
   "execution_count": 64,
   "metadata": {},
   "outputs": [
    {
     "data": {
      "text/plain": [
       "[1, 2, 3, 4, 5, 7, 9]"
      ]
     },
     "execution_count": 64,
     "metadata": {},
     "output_type": "execute_result"
    }
   ],
   "source": [
    "#lista em order crescente\n",
    "L.sort()\n",
    "L"
   ]
  },
  {
   "cell_type": "code",
   "execution_count": 65,
   "metadata": {},
   "outputs": [
    {
     "data": {
      "text/plain": [
       "[9, 7, 5, 4, 3, 2, 1]"
      ]
     },
     "execution_count": 65,
     "metadata": {},
     "output_type": "execute_result"
    }
   ],
   "source": [
    "#lita em ordem decrescente\n",
    "L.reverse()\n",
    "L"
   ]
  },
  {
   "cell_type": "code",
   "execution_count": 68,
   "metadata": {},
   "outputs": [
    {
     "name": "stdout",
     "output_type": "stream",
     "text": [
      "[3, 6, 9, 12, 15, 18, 21, 24, 27, 30, 33, 36, 39, 42, 45, 48]\n"
     ]
    }
   ],
   "source": [
    "#gera uma lista contendo os múltiplos de 3 entre 1 e 50.\n",
    "L=list(range(3,50,3))\n",
    "print(L)"
   ]
  },
  {
   "cell_type": "markdown",
   "metadata": {},
   "source": [
    "## TUPLAS"
   ]
  },
  {
   "cell_type": "code",
   "execution_count": null,
   "metadata": {},
   "outputs": [],
   "source": [
    "\"\"\"\n",
    "Tupla, assim como a Lista, é um conjunto sequencial de valroes, onde cada valor é identificado através de um índice.\n",
    "A principal diferença entre elas é que as tuplas são imutáveis, ou seja, seus elementos não podem ser alterados.\n",
    "Dentre as utilidades das tuplas, destacam-se as operações  de empacotamento e desempacotamento de valores.\n",
    "Uma tupla em Python é declarada da seguinte forma:\n",
    "\n",
    "    Nome_tupla = (valor1, valor2,... valorN)\n",
    "    \n",
    "A tupla é imutável, ou seja, não aceita o método append. \n",
    "Também não é possível deletar um item da tupla, mas sim a tupla inteira.\n",
    "\"\"\""
   ]
  },
  {
   "cell_type": "code",
   "execution_count": 69,
   "metadata": {},
   "outputs": [
    {
     "name": "stdout",
     "output_type": "stream",
     "text": [
      "(1, 2, 3, 4, 5)\n"
     ]
    }
   ],
   "source": [
    "T = (1,2,3,4,5)\n",
    "print(T)"
   ]
  },
  {
   "cell_type": "code",
   "execution_count": 70,
   "metadata": {},
   "outputs": [
    {
     "name": "stdout",
     "output_type": "stream",
     "text": [
      "4\n"
     ]
    }
   ],
   "source": [
    "print(T[3])"
   ]
  },
  {
   "cell_type": "code",
   "execution_count": 71,
   "metadata": {},
   "outputs": [
    {
     "data": {
      "text/plain": [
       "4"
      ]
     },
     "execution_count": 71,
     "metadata": {},
     "output_type": "execute_result"
    }
   ],
   "source": [
    "T[3]"
   ]
  },
  {
   "cell_type": "code",
   "execution_count": 73,
   "metadata": {},
   "outputs": [
    {
     "ename": "TypeError",
     "evalue": "'tuple' object does not support item assignment",
     "output_type": "error",
     "traceback": [
      "\u001b[0;31m---------------------------------------------------------------------------\u001b[0m",
      "\u001b[0;31mTypeError\u001b[0m                                 Traceback (most recent call last)",
      "\u001b[0;32m<ipython-input-73-7f891667a8e8>\u001b[0m in \u001b[0;36m<module>\u001b[0;34m\u001b[0m\n\u001b[0;32m----> 1\u001b[0;31m \u001b[0mT\u001b[0m\u001b[0;34m[\u001b[0m\u001b[0;36m3\u001b[0m\u001b[0;34m]\u001b[0m\u001b[0;34m=\u001b[0m\u001b[0;36m8\u001b[0m\u001b[0;34m\u001b[0m\u001b[0;34m\u001b[0m\u001b[0m\n\u001b[0m",
      "\u001b[0;31mTypeError\u001b[0m: 'tuple' object does not support item assignment"
     ]
    }
   ],
   "source": [
    "T[3]=8\n",
    "#Este comando irá gerar um erro, pois uma tupla não suporta alteração de valores."
   ]
  },
  {
   "cell_type": "code",
   "execution_count": null,
   "metadata": {},
   "outputs": [],
   "source": [
    "\"\"\"Uma ferramenta muito utilizada em tuplas é o desempacotamento, \n",
    "que permite atribuir os elementos armazenados em uma tupla a diversas variáveis.\n",
    "\"\"\""
   ]
  },
  {
   "cell_type": "code",
   "execution_count": 74,
   "metadata": {},
   "outputs": [
    {
     "name": "stdout",
     "output_type": "stream",
     "text": [
      "a= 10 b= 20\n"
     ]
    }
   ],
   "source": [
    "T=(10,20,30,40,50)\n",
    "a,b,c,d,e = T\n",
    "print(\"a=\", a, \"b=\", b)\n"
   ]
  },
  {
   "cell_type": "code",
   "execution_count": 75,
   "metadata": {},
   "outputs": [
    {
     "name": "stdout",
     "output_type": "stream",
     "text": [
      "d+e= 90\n"
     ]
    }
   ],
   "source": [
    "print(\"d+e=\", d+e)"
   ]
  },
  {
   "cell_type": "code",
   "execution_count": 181,
   "metadata": {},
   "outputs": [
    {
     "data": {
      "text/plain": [
       "('Geografia', 23, 'Elefantes')"
      ]
     },
     "execution_count": 181,
     "metadata": {},
     "output_type": "execute_result"
    }
   ],
   "source": [
    "# Criando uma tupla\n",
    "tupla1 = (\"Geografia\", 23, \"Elefantes\")\n",
    "\n",
    "# Imprimindo a tupla\n",
    "tupla1"
   ]
  },
  {
   "cell_type": "code",
   "execution_count": 182,
   "metadata": {},
   "outputs": [
    {
     "ename": "AttributeError",
     "evalue": "'tuple' object has no attribute 'append'",
     "output_type": "error",
     "traceback": [
      "\u001b[0;31m---------------------------------------------------------------------------\u001b[0m",
      "\u001b[0;31mAttributeError\u001b[0m                            Traceback (most recent call last)",
      "\u001b[0;32m<ipython-input-182-b4f100d82539>\u001b[0m in \u001b[0;36m<module>\u001b[0;34m\u001b[0m\n\u001b[1;32m      1\u001b[0m \u001b[0;31m# Tuplas não suportam append()\u001b[0m\u001b[0;34m\u001b[0m\u001b[0;34m\u001b[0m\u001b[0;34m\u001b[0m\u001b[0m\n\u001b[0;32m----> 2\u001b[0;31m \u001b[0mtupla1\u001b[0m\u001b[0;34m.\u001b[0m\u001b[0mappend\u001b[0m\u001b[0;34m(\u001b[0m\u001b[0;34m\"Chocolate\"\u001b[0m\u001b[0;34m)\u001b[0m\u001b[0;34m\u001b[0m\u001b[0;34m\u001b[0m\u001b[0m\n\u001b[0m\u001b[1;32m      3\u001b[0m \u001b[0;34m\u001b[0m\u001b[0m\n",
      "\u001b[0;31mAttributeError\u001b[0m: 'tuple' object has no attribute 'append'"
     ]
    }
   ],
   "source": [
    "# Tuplas não suportam append()\n",
    "tupla1.append(\"Chocolate\")   "
   ]
  },
  {
   "cell_type": "code",
   "execution_count": 184,
   "metadata": {},
   "outputs": [
    {
     "data": {
      "text/plain": [
       "'Chocolate'"
      ]
     },
     "execution_count": 184,
     "metadata": {},
     "output_type": "execute_result"
    }
   ],
   "source": [
    "# Tuplas podem ter um único item\n",
    "tupla1 = (\"Chocolate\")\n",
    "\n",
    "tupla1"
   ]
  },
  {
   "cell_type": "code",
   "execution_count": 185,
   "metadata": {},
   "outputs": [
    {
     "data": {
      "text/plain": [
       "'C'"
      ]
     },
     "execution_count": 185,
     "metadata": {},
     "output_type": "execute_result"
    }
   ],
   "source": [
    "tupla1[0]"
   ]
  },
  {
   "cell_type": "code",
   "execution_count": 186,
   "metadata": {},
   "outputs": [],
   "source": [
    "tupla1 = (\"Geografia\", 23, \"Elefantes\")\n"
   ]
  },
  {
   "cell_type": "code",
   "execution_count": 187,
   "metadata": {},
   "outputs": [
    {
     "data": {
      "text/plain": [
       "'Geografia'"
      ]
     },
     "execution_count": 187,
     "metadata": {},
     "output_type": "execute_result"
    }
   ],
   "source": [
    "tupla1[0]"
   ]
  },
  {
   "cell_type": "code",
   "execution_count": 188,
   "metadata": {},
   "outputs": [
    {
     "data": {
      "text/plain": [
       "3"
      ]
     },
     "execution_count": 188,
     "metadata": {},
     "output_type": "execute_result"
    }
   ],
   "source": [
    "# Verificando o comprimento da tupla\n",
    "len(tupla1)"
   ]
  },
  {
   "cell_type": "code",
   "execution_count": 189,
   "metadata": {},
   "outputs": [
    {
     "data": {
      "text/plain": [
       "(23, 'Elefantes')"
      ]
     },
     "execution_count": 189,
     "metadata": {},
     "output_type": "execute_result"
    }
   ],
   "source": [
    "# Slicing, da mesma forma que se faz com listas\n",
    "tupla1[1:]"
   ]
  },
  {
   "cell_type": "code",
   "execution_count": 190,
   "metadata": {},
   "outputs": [
    {
     "data": {
      "text/plain": [
       "2"
      ]
     },
     "execution_count": 190,
     "metadata": {},
     "output_type": "execute_result"
    }
   ],
   "source": [
    "tupla1.index('Elefantes')"
   ]
  },
  {
   "cell_type": "code",
   "execution_count": 191,
   "metadata": {},
   "outputs": [
    {
     "ename": "TypeError",
     "evalue": "'tuple' object does not support item assignment",
     "output_type": "error",
     "traceback": [
      "\u001b[0;31m---------------------------------------------------------------------------\u001b[0m",
      "\u001b[0;31mTypeError\u001b[0m                                 Traceback (most recent call last)",
      "\u001b[0;32m<ipython-input-191-59bcc25f7f2b>\u001b[0m in \u001b[0;36m<module>\u001b[0;34m\u001b[0m\n\u001b[1;32m      1\u001b[0m \u001b[0;31m# Tuplas não suportam atribuição de item\u001b[0m\u001b[0;34m\u001b[0m\u001b[0;34m\u001b[0m\u001b[0;34m\u001b[0m\u001b[0m\n\u001b[0;32m----> 2\u001b[0;31m \u001b[0mtupla1\u001b[0m\u001b[0;34m[\u001b[0m\u001b[0;36m1\u001b[0m\u001b[0;34m]\u001b[0m \u001b[0;34m=\u001b[0m \u001b[0;36m21\u001b[0m\u001b[0;34m\u001b[0m\u001b[0;34m\u001b[0m\u001b[0m\n\u001b[0m",
      "\u001b[0;31mTypeError\u001b[0m: 'tuple' object does not support item assignment"
     ]
    }
   ],
   "source": [
    "# Tuplas não suportam atribuição de item\n",
    "tupla1[# Deletando a tupla\n"
   ]
  },
  {
   "cell_type": "code",
   "execution_count": 194,
   "metadata": {},
   "outputs": [],
   "source": [
    "#é possível eliminar um tupla\n",
    "del tupla1"
   ]
  },
  {
   "cell_type": "code",
   "execution_count": 195,
   "metadata": {},
   "outputs": [
    {
     "ename": "NameError",
     "evalue": "name 'tupla1' is not defined",
     "output_type": "error",
     "traceback": [
      "\u001b[0;31m---------------------------------------------------------------------------\u001b[0m",
      "\u001b[0;31mNameError\u001b[0m                                 Traceback (most recent call last)",
      "\u001b[0;32m<ipython-input-195-4b086485bb51>\u001b[0m in \u001b[0;36m<module>\u001b[0;34m\u001b[0m\n\u001b[1;32m      1\u001b[0m \u001b[0;31m#veja que agora a tupla não existe mais\u001b[0m\u001b[0;34m\u001b[0m\u001b[0;34m\u001b[0m\u001b[0;34m\u001b[0m\u001b[0m\n\u001b[0;32m----> 2\u001b[0;31m \u001b[0mtupla1\u001b[0m\u001b[0;34m\u001b[0m\u001b[0;34m\u001b[0m\u001b[0m\n\u001b[0m",
      "\u001b[0;31mNameError\u001b[0m: name 'tupla1' is not defined"
     ]
    }
   ],
   "source": [
    "#veja que agora a tupla não existe mais\n",
    "tupla1"
   ]
  },
  {
   "cell_type": "code",
   "execution_count": 196,
   "metadata": {},
   "outputs": [],
   "source": [
    "# Criando uma tupla\n",
    "t2 = ('A', 'B', 'C')"
   ]
  },
  {
   "cell_type": "code",
   "execution_count": 197,
   "metadata": {},
   "outputs": [
    {
     "data": {
      "text/plain": [
       "('A', 'B', 'C')"
      ]
     },
     "execution_count": 197,
     "metadata": {},
     "output_type": "execute_result"
    }
   ],
   "source": [
    "t2"
   ]
  },
  {
   "cell_type": "code",
   "execution_count": 198,
   "metadata": {},
   "outputs": [],
   "source": [
    "# Usando a função list() para converter uma tupla para lista\n",
    "#dessa forma, conseguiremos alterar valores de itens da tupla\n",
    "lista_t2 = list(t2)"
   ]
  },
  {
   "cell_type": "code",
   "execution_count": 199,
   "metadata": {},
   "outputs": [
    {
     "data": {
      "text/plain": [
       "['A', 'B', 'C']"
      ]
     },
     "execution_count": 199,
     "metadata": {},
     "output_type": "execute_result"
    }
   ],
   "source": [
    "lista_t2"
   ]
  },
  {
   "cell_type": "code",
   "execution_count": 200,
   "metadata": {},
   "outputs": [],
   "source": [
    "# Usando a função tuple() para converter uma lista para tupla\n",
    "t2 = tuple(lista_t2)"
   ]
  },
  {
   "cell_type": "code",
   "execution_count": 201,
   "metadata": {},
   "outputs": [
    {
     "data": {
      "text/plain": [
       "('A', 'B', 'C')"
      ]
     },
     "execution_count": 201,
     "metadata": {},
     "output_type": "execute_result"
    }
   ],
   "source": [
    "t2"
   ]
  },
  {
   "cell_type": "markdown",
   "metadata": {},
   "source": [
    "## DICIONÁRIOS"
   ]
  },
  {
   "cell_type": "code",
   "execution_count": null,
   "metadata": {},
   "outputs": [],
   "source": []
  },
  {
   "cell_type": "code",
   "execution_count": null,
   "metadata": {},
   "outputs": [],
   "source": [
    "\"\"\"\n",
    "Dicionários é um conjunto de valores, onde cada valor é associado a uma chave de acesso.\n",
    "Um dicionário em Python é declarado da seguinte forma:\n",
    "\n",
    "    Nome_dicionario = {chave1: valor1,\n",
    "                       chave2: valor2,\n",
    "                       chave3: valor3,\n",
    "                       ...\n",
    "                       chaveN: valorN}\n",
    "\"\"\""
   ]
  },
  {
   "cell_type": "code",
   "execution_count": null,
   "metadata": {},
   "outputs": [],
   "source": []
  },
  {
   "cell_type": "code",
   "execution_count": 76,
   "metadata": {},
   "outputs": [
    {
     "name": "stdout",
     "output_type": "stream",
     "text": [
      "{'arroz': 17.3, 'feijão': 12.5, 'carne': 23.9, 'alface': 3.4}\n"
     ]
    }
   ],
   "source": [
    "D={\"arroz\": 17.30, \"feijão\": 12.50, \"carne\": 23.90, \"alface\": 3.40}\n",
    "print(D)"
   ]
  },
  {
   "cell_type": "code",
   "execution_count": 77,
   "metadata": {},
   "outputs": [
    {
     "name": "stdout",
     "output_type": "stream",
     "text": [
      "23.9\n"
     ]
    }
   ],
   "source": [
    "print(D[\"carne\"])"
   ]
  },
  {
   "cell_type": "code",
   "execution_count": 78,
   "metadata": {},
   "outputs": [
    {
     "name": "stdout",
     "output_type": "stream",
     "text": [
      "{'arroz': 17.3, 'feijão': 12.5, 'carne': 25.0, 'alface': 3.4, 'tomate': 8.8}\n"
     ]
    }
   ],
   "source": [
    "#É possível acrescentar ou modificar valores no dicionário:\n",
    "D[\"carne\"]=25.0\n",
    "D[\"tomate\"]=8.80\n",
    "print(D)\n"
   ]
  },
  {
   "cell_type": "code",
   "execution_count": null,
   "metadata": {},
   "outputs": [],
   "source": [
    "#Os valores do dicionários não possuem ordem, por isso a ordem de impressão dos valores não é sempre a mesma."
   ]
  },
  {
   "cell_type": "markdown",
   "metadata": {},
   "source": [
    "## Operações em Dicionários"
   ]
  },
  {
   "cell_type": "markdown",
   "metadata": {},
   "source": [
    "## Manipulação de Dicionários"
   ]
  },
  {
   "cell_type": "code",
   "execution_count": 79,
   "metadata": {},
   "outputs": [
    {
     "name": "stdout",
     "output_type": "stream",
     "text": [
      "{'arroz': 17.3, 'carne': 25.0, 'alface': 3.4, 'tomate': 8.8}\n"
     ]
    }
   ],
   "source": [
    "#del\n",
    "#Exclui um item informando a chave\n",
    "del D[\"feijão\"]\n",
    "print(D)"
   ]
  },
  {
   "cell_type": "code",
   "execution_count": 80,
   "metadata": {},
   "outputs": [
    {
     "data": {
      "text/plain": [
       "False"
      ]
     },
     "execution_count": 80,
     "metadata": {},
     "output_type": "execute_result"
    }
   ],
   "source": [
    "#in\n",
    "#verificar se uma chave existe no dicionário\n",
    "\"batata\" in D\n"
   ]
  },
  {
   "cell_type": "code",
   "execution_count": 81,
   "metadata": {},
   "outputs": [
    {
     "data": {
      "text/plain": [
       "True"
      ]
     },
     "execution_count": 81,
     "metadata": {},
     "output_type": "execute_result"
    }
   ],
   "source": [
    "\"alface\" in D"
   ]
  },
  {
   "cell_type": "code",
   "execution_count": 84,
   "metadata": {},
   "outputs": [
    {
     "data": {
      "text/plain": [
       "dict_keys(['arroz', 'carne', 'alface', 'tomate'])"
      ]
     },
     "execution_count": 84,
     "metadata": {},
     "output_type": "execute_result"
    }
   ],
   "source": [
    "#keys()\n",
    "#obtém as chaves de um dicionários\n",
    "D.keys()"
   ]
  },
  {
   "cell_type": "code",
   "execution_count": 85,
   "metadata": {},
   "outputs": [
    {
     "data": {
      "text/plain": [
       "dict_values([17.3, 25.0, 3.4, 8.8])"
      ]
     },
     "execution_count": 85,
     "metadata": {},
     "output_type": "execute_result"
    }
   ],
   "source": [
    "#values()\n",
    "#Obtém os valores de um dicionário\n",
    "D.values()"
   ]
  },
  {
   "cell_type": "code",
   "execution_count": null,
   "metadata": {},
   "outputs": [],
   "source": [
    "#Os dicionários podem ter valores de diferentes tipos."
   ]
  },
  {
   "cell_type": "code",
   "execution_count": 87,
   "metadata": {},
   "outputs": [
    {
     "name": "stdout",
     "output_type": "stream",
     "text": [
      "('a', 'b')\n"
     ]
    }
   ],
   "source": [
    "Dx={2:\"carro\",3:[4,5,6],7:('a','b'),4: 173.8}\n",
    "print(Dx[7])"
   ]
  },
  {
   "cell_type": "markdown",
   "metadata": {},
   "source": [
    "## Exercícios de Dicionários"
   ]
  },
  {
   "cell_type": "code",
   "execution_count": 156,
   "metadata": {},
   "outputs": [],
   "source": [
    "Lanchonete={\"salgado\":4.50, \"lanche\": 6.50, \"suco\": 3.00, \"refrigerante\": 3.50, \"doce\": 1.00}"
   ]
  },
  {
   "cell_type": "code",
   "execution_count": 157,
   "metadata": {},
   "outputs": [
    {
     "name": "stdout",
     "output_type": "stream",
     "text": [
      "{'salgado': 4.5, 'lanche': 6.5, 'suco': 3.0, 'refrigerante': 3.5, 'doce': 1.0}\n"
     ]
    }
   ],
   "source": [
    "print(Lanchonete)"
   ]
  },
  {
   "cell_type": "code",
   "execution_count": 158,
   "metadata": {},
   "outputs": [
    {
     "name": "stdout",
     "output_type": "stream",
     "text": [
      "{'Ana': 4.5, 'Beatriz': 6.5, 'Geraldo': 1.0, 'José': 10.0, 'Maria': 9.5}\n"
     ]
    }
   ],
   "source": [
    "classe={\"Ana\": 4.5, \"Beatriz\": 6.5, \"Geraldo\": 1.0, \"José\": 10.0, \"Maria\": 9.5}\n",
    "print(classe)"
   ]
  },
  {
   "cell_type": "code",
   "execution_count": 159,
   "metadata": {},
   "outputs": [
    {
     "name": "stdout",
     "output_type": "stream",
     "text": [
      "dict_values([4.5, 6.5, 1.0, 10.0, 9.5])\n"
     ]
    }
   ],
   "source": [
    "notas=classe.values()\n",
    "print(notas)"
   ]
  },
  {
   "cell_type": "code",
   "execution_count": 160,
   "metadata": {},
   "outputs": [
    {
     "name": "stdout",
     "output_type": "stream",
     "text": [
      "A média da classe é 6.3\n"
     ]
    }
   ],
   "source": [
    "media=sum(notas)/5\n",
    "print(\"A média da classe é\", media)"
   ]
  },
  {
   "cell_type": "code",
   "execution_count": 163,
   "metadata": {},
   "outputs": [
    {
     "data": {
      "text/plain": [
       "dict_keys(['Ana', 'Beatriz', 'Geraldo', 'José', 'Maria'])"
      ]
     },
     "execution_count": 163,
     "metadata": {},
     "output_type": "execute_result"
    }
   ],
   "source": [
    "classe.keys()"
   ]
  },
  {
   "cell_type": "code",
   "execution_count": 165,
   "metadata": {},
   "outputs": [
    {
     "data": {
      "text/plain": [
       "dict_items([('Ana', 4.5), ('Beatriz', 6.5), ('Geraldo', 1.0), ('José', 10.0), ('Maria', 9.5)])"
      ]
     },
     "execution_count": 165,
     "metadata": {},
     "output_type": "execute_result"
    }
   ],
   "source": [
    "classe.items()"
   ]
  },
  {
   "cell_type": "code",
   "execution_count": 166,
   "metadata": {},
   "outputs": [],
   "source": [
    "classe2={\"Paulo: 10.0\", \"Ana: 9.9\"}\n"
   ]
  },
  {
   "cell_type": "code",
   "execution_count": 168,
   "metadata": {},
   "outputs": [
    {
     "data": {
      "text/plain": [
       "{'Ana: 9.9', 'Paulo: 10.0'}"
      ]
     },
     "execution_count": 168,
     "metadata": {},
     "output_type": "execute_result"
    }
   ],
   "source": [
    "classe2"
   ]
  },
  {
   "cell_type": "code",
   "execution_count": 169,
   "metadata": {},
   "outputs": [
    {
     "ename": "ValueError",
     "evalue": "dictionary update sequence element #0 has length 11; 2 is required",
     "output_type": "error",
     "traceback": [
      "\u001b[0;31m---------------------------------------------------------------------------\u001b[0m",
      "\u001b[0;31mValueError\u001b[0m                                Traceback (most recent call last)",
      "\u001b[0;32m<ipython-input-169-11752ae455bb>\u001b[0m in \u001b[0;36m<module>\u001b[0;34m\u001b[0m\n\u001b[0;32m----> 1\u001b[0;31m \u001b[0mclasse\u001b[0m\u001b[0;34m.\u001b[0m\u001b[0mupdate\u001b[0m\u001b[0;34m(\u001b[0m\u001b[0mclasse2\u001b[0m\u001b[0;34m)\u001b[0m\u001b[0;34m\u001b[0m\u001b[0;34m\u001b[0m\u001b[0m\n\u001b[0m",
      "\u001b[0;31mValueError\u001b[0m: dictionary update sequence element #0 has length 11; 2 is required"
     ]
    }
   ],
   "source": [
    "classe.update(classe2)"
   ]
  },
  {
   "cell_type": "code",
   "execution_count": 170,
   "metadata": {},
   "outputs": [],
   "source": [
    "classe3={\"Igor\": 4.5, \"Rodolfo\": 6.5, \"Orlando\": 1.0, \"Pedro\": 10.0, \"Marco\": 9.5}\n"
   ]
  },
  {
   "cell_type": "code",
   "execution_count": 174,
   "metadata": {},
   "outputs": [
    {
     "data": {
      "text/plain": [
       "{'Ana': 4.5,\n",
       " 'Beatriz': 6.5,\n",
       " 'Geraldo': 1.0,\n",
       " 'José': 10.0,\n",
       " 'Maria': 9.5,\n",
       " 'Igor': 4.5,\n",
       " 'Rodolfo': 6.5,\n",
       " 'Orlando': 1.0,\n",
       " 'Pedro': 10.0,\n",
       " 'Marco': 9.5}"
      ]
     },
     "execution_count": 174,
     "metadata": {},
     "output_type": "execute_result"
    }
   ],
   "source": [
    "#concatenação do dicionário 3 com o dicionário 1\n",
    "classe.update(classe3)\n",
    "\n",
    "#lista concatenação\n",
    "classe"
   ]
  },
  {
   "cell_type": "markdown",
   "metadata": {},
   "source": [
    "## ESTRUTURAS DE DECISÃO"
   ]
  },
  {
   "cell_type": "code",
   "execution_count": null,
   "metadata": {},
   "outputs": [],
   "source": [
    "\"\"\"\n",
    "As estruturas de decisão permitem alterar o curso do fluxo de uma execução de um programa, \n",
    "de acordo com o valor (verdadeiro/falso) de um teste lógico.\n",
    "\n",
    "Em Python, temos as seguintes estruturas de decisão:\n",
    "\n",
    "if(se)\n",
    "if..else(se... senão)\n",
    "if... elif... else()\n",
    "\"\"\""
   ]
  },
  {
   "cell_type": "code",
   "execution_count": 95,
   "metadata": {},
   "outputs": [
    {
     "name": "stdout",
     "output_type": "stream",
     "text": [
      "Qual sua idade?38\n"
     ]
    }
   ],
   "source": [
    "valor = int(input(\"Qual sua idade?\"))\n",
    "if valor < 18:\n",
    "        print(\"Você ainda não pode dirigir!\")"
   ]
  },
  {
   "cell_type": "code",
   "execution_count": 96,
   "metadata": {},
   "outputs": [
    {
     "name": "stdout",
     "output_type": "stream",
     "text": [
      "Qual sua idade?38\n",
      "Você é o cara!\n"
     ]
    }
   ],
   "source": [
    "valor = int(input(\"Qual sua idade?\"))\n",
    "if valor < 18:\n",
    "        print(\"Você ainda não pode dirigir!\")\n",
    "else:\n",
    "        print(\"Você é o cara!\")"
   ]
  },
  {
   "cell_type": "code",
   "execution_count": 97,
   "metadata": {},
   "outputs": [
    {
     "name": "stdout",
     "output_type": "stream",
     "text": [
      "Qual sua idade?61\n",
      "Você está na melhor idade!\n"
     ]
    }
   ],
   "source": [
    "valor = int(input(\"Qual sua idade?\"))\n",
    "if valor < 6:\n",
    "     print(\"Que coisa fofa!\")\n",
    "elif valor < 18:\n",
    "     print(\"Você ainda não pode dirigir!\")\n",
    "elif valor > 60:        \n",
    "     print (\"Você está na melhor idade!\")\n",
    "else:\n",
    "    print(\"Você é o cara!\")\n",
    "    "
   ]
  },
  {
   "cell_type": "code",
   "execution_count": 100,
   "metadata": {},
   "outputs": [
    {
     "name": "stdout",
     "output_type": "stream",
     "text": [
      "Digite a 1ª nota do aluno:7\n",
      "Digite a 2ª nota do aluno:7\n",
      "Média =  7.0\n",
      "Aprovado\n"
     ]
    }
   ],
   "source": [
    "nota1 = float(input (\"Digite a 1ª nota do aluno:\"))\n",
    "nota2 = float(input (\"Digite a 2ª nota do aluno:\"))\n",
    "media = (nota1 + nota2)/2\n",
    "print(\"Média = \", media)\n",
    "if media >= 6:\n",
    "    print (\"Aprovado\")\n",
    "else:\n",
    "    print(\"Reprovado\")\n",
    "    \n",
    "    "
   ]
  },
  {
   "cell_type": "code",
   "execution_count": 101,
   "metadata": {},
   "outputs": [
    {
     "name": "stdout",
     "output_type": "stream",
     "text": [
      "Digite a 1ª nota do aluno:10\n",
      "Digite a 2ª nota do aluno:8\n",
      "Média =  7.0\n",
      "Aprovado\n"
     ]
    }
   ],
   "source": [
    "nota1 = float(input(\"Digite a 1ª nota do aluno:\"))\n",
    "nota2 = float(input(\"Digite a 2ª nota do aluno:\"))\n",
    "medida = (nota1+nota2)/2\n",
    "print(\"Média = \", media)\n",
    "if media > 6:\n",
    "        print(\"Aprovado\")\n",
    "elif media >= 4:\n",
    "        print(\"Exame\")\n",
    "else:\n",
    "        print(\"Reprovado\")"
   ]
  },
  {
   "cell_type": "markdown",
   "metadata": {},
   "source": [
    "## ESTRUTURAS DE REPETIÇÃO"
   ]
  },
  {
   "cell_type": "code",
   "execution_count": null,
   "metadata": {},
   "outputs": [],
   "source": [
    "\"\"\"\n",
    "A estrutura de repetição é utilizada para executar uma mesma sequencia de comandos várias vezes.\n",
    "A repetição está associada ou a uma condição, que indica se deve continuar ou não a repetição, \n",
    "ou a uma sequência de valores, que determina quantas vezes a sequência deve ser repetida.\n",
    "As estruturas de repetição são conhecidas também como laços (loops).\n",
    "\n",
    "\"\"\""
   ]
  },
  {
   "cell_type": "markdown",
   "metadata": {},
   "source": [
    "## Laço While"
   ]
  },
  {
   "cell_type": "code",
   "execution_count": null,
   "metadata": {},
   "outputs": [],
   "source": [
    "\"\"\"\n",
    "No laço while, o trecho de código da repetição está associado a uma condição.\n",
    "Enquanto a condição tiver valor verdadeiro, o trecho é executado.\n",
    "Quando a condição passa a ter valor falso, a repetição termina.\n",
    "\"\"\""
   ]
  },
  {
   "cell_type": "code",
   "execution_count": 103,
   "metadata": {},
   "outputs": [
    {
     "name": "stdout",
     "output_type": "stream",
     "text": [
      "Digite a senha: 1234\n",
      "Senha incorreta. Tente novamente\n",
      "Digite a senha: 54321\n",
      "Acesso liberado\n"
     ]
    }
   ],
   "source": [
    "senha = \"54321\"\n",
    "leitura = \" \"\n",
    "while (leitura != senha):\n",
    "    leitura = input(\"Digite a senha: \")\n",
    "    if leitura == senha:\n",
    "        print(\"Acesso liberado\")\n",
    "    else:\n",
    "        print(\"Senha incorreta. Tente novamente\")\n",
    "    "
   ]
  },
  {
   "cell_type": "code",
   "execution_count": 104,
   "metadata": {},
   "outputs": [
    {
     "name": "stdout",
     "output_type": "stream",
     "text": [
      "Digite o 1 º valor:1\n",
      "Digite o 2 º valor:2\n",
      "Digite o 3 º valor:3\n",
      "Digite o 4 º valor:4\n",
      "Digite o 5 º valor:5\n",
      "Soma = 15.0\n"
     ]
    }
   ],
   "source": [
    "contador = 0\n",
    "somador = 0\n",
    "while contador < 5:\n",
    "    contador = contador + 1\n",
    "    valor = float(input('Digite o '+str(contador)+' º valor:'))\n",
    "    somador =somador + valor\n",
    "print (\"Soma =\", somador)"
   ]
  },
  {
   "cell_type": "code",
   "execution_count": 247,
   "metadata": {},
   "outputs": [
    {
     "name": "stdout",
     "output_type": "stream",
     "text": [
      "0\n",
      "1\n",
      "2\n",
      "3\n"
     ]
    }
   ],
   "source": [
    "#Pass, Break, Continue\n",
    "#Pass pula\n",
    "#Break interrompe\n",
    "#Continue continua\n",
    "\n",
    "counter = 0\n",
    "while counter < 100:\n",
    "    if counter == 4:\n",
    "        break\n",
    "    else:\n",
    "        pass\n",
    "    print(counter)\n",
    "    counter = counter + 1\n",
    "    "
   ]
  },
  {
   "cell_type": "code",
   "execution_count": 253,
   "metadata": {},
   "outputs": [
    {
     "name": "stdout",
     "output_type": "stream",
     "text": [
      "L\n",
      "u\n",
      "c\n",
      "i\n",
      "a\n",
      "a\n"
     ]
    }
   ],
   "source": [
    "for verificador in \"Luciana\":\n",
    "    if verificador == \"n\":\n",
    "        continue\n",
    "    print(verificador)"
   ]
  },
  {
   "cell_type": "code",
   "execution_count": 254,
   "metadata": {},
   "outputs": [
    {
     "name": "stdout",
     "output_type": "stream",
     "text": [
      "2 é um número primo\n",
      "3 é um número primo\n",
      "5 é um número primo\n",
      "7 é um número primo\n",
      "11 é um número primo\n",
      "13 é um número primo\n",
      "17 é um número primo\n",
      "19 é um número primo\n",
      "23 é um número primo\n",
      "29 é um número primo\n"
     ]
    }
   ],
   "source": [
    "#While e For Juntos\n",
    "for i in range(2,30):\n",
    "    j = 2\n",
    "    counter = 0\n",
    "    while j < i:\n",
    "        if i % j == 0:\n",
    "            counter = 1\n",
    "            j = j + 1\n",
    "        else:\n",
    "            j = j + 1\n",
    "            \n",
    "    if counter == 0:\n",
    "        print(str(i) + \" é um número primo\")\n",
    "        counter = 0\n",
    "    else:\n",
    "        counter = 0                            "
   ]
  },
  {
   "cell_type": "markdown",
   "metadata": {},
   "source": [
    "## Função Range"
   ]
  },
  {
   "cell_type": "code",
   "execution_count": 255,
   "metadata": {},
   "outputs": [
    {
     "name": "stdout",
     "output_type": "stream",
     "text": [
      "50\n",
      "52\n",
      "54\n",
      "56\n",
      "58\n",
      "60\n",
      "62\n",
      "64\n",
      "66\n",
      "68\n",
      "70\n",
      "72\n",
      "74\n",
      "76\n",
      "78\n",
      "80\n",
      "82\n",
      "84\n",
      "86\n",
      "88\n",
      "90\n",
      "92\n",
      "94\n",
      "96\n",
      "98\n",
      "100\n"
     ]
    }
   ],
   "source": [
    "#Imprimindo números pares entre 50 e 101\n",
    "\n",
    "for i in range(50, 101, 2):\n",
    "    print(i)"
   ]
  },
  {
   "cell_type": "code",
   "execution_count": 256,
   "metadata": {},
   "outputs": [
    {
     "name": "stdout",
     "output_type": "stream",
     "text": [
      "3\n",
      "4\n",
      "5\n"
     ]
    }
   ],
   "source": [
    "for i in range(3, 6):\n",
    "    print(i)"
   ]
  },
  {
   "cell_type": "code",
   "execution_count": 257,
   "metadata": {},
   "outputs": [
    {
     "name": "stdout",
     "output_type": "stream",
     "text": [
      "0\n",
      "-2\n",
      "-4\n",
      "-6\n",
      "-8\n",
      "-10\n",
      "-12\n",
      "-14\n",
      "-16\n",
      "-18\n"
     ]
    }
   ],
   "source": [
    "for i in range(0, -20, -2):\n",
    "    print(i)"
   ]
  },
  {
   "cell_type": "code",
   "execution_count": 259,
   "metadata": {},
   "outputs": [
    {
     "name": "stdout",
     "output_type": "stream",
     "text": [
      "Morango\n",
      "Banana\n",
      "Abacaxi\n",
      "Uva\n"
     ]
    }
   ],
   "source": [
    "lista = ['Morango', 'Banana', 'Abacaxi', 'Uva']\n",
    "lista_tamanho = len(lista)\n",
    "for i in range(0, lista_tamanho):\n",
    "        print(lista[i])"
   ]
  },
  {
   "cell_type": "code",
   "execution_count": 258,
   "metadata": {},
   "outputs": [
    {
     "data": {
      "text/plain": [
       "range"
      ]
     },
     "execution_count": 258,
     "metadata": {},
     "output_type": "execute_result"
    }
   ],
   "source": [
    "#Tudo em Python é um objeto\n",
    "type(range(0,3))"
   ]
  },
  {
   "cell_type": "code",
   "execution_count": 265,
   "metadata": {},
   "outputs": [
    {
     "data": {
      "text/plain": [
       "str"
      ]
     },
     "execution_count": 265,
     "metadata": {},
     "output_type": "execute_result"
    }
   ],
   "source": [
    "type('papagaio')"
   ]
  },
  {
   "cell_type": "code",
   "execution_count": 264,
   "metadata": {},
   "outputs": [
    {
     "data": {
      "text/plain": [
       "int"
      ]
     },
     "execution_count": 264,
     "metadata": {},
     "output_type": "execute_result"
    }
   ],
   "source": [
    "type(38)"
   ]
  },
  {
   "cell_type": "markdown",
   "metadata": {},
   "source": [
    "## Laço For"
   ]
  },
  {
   "cell_type": "code",
   "execution_count": 106,
   "metadata": {},
   "outputs": [
    {
     "data": {
      "text/plain": [
       "'\\nO laço for é a estrutura de repetição mais utilizada em Python.\\nPode ser utilizado com uma sequência numérica (gerada com o comando range) ou associado a uma lista.\\no trecho de código da repetição é executado para cada valor da sequência numérica ou da lista.\\n'"
      ]
     },
     "execution_count": 106,
     "metadata": {},
     "output_type": "execute_result"
    }
   ],
   "source": [
    "\"\"\"\n",
    "O laço for é a estrutura de repetição mais utilizada em Python.\n",
    "Pode ser utilizado com uma sequência numérica (gerada com o comando range) ou associado a uma lista.\n",
    "o trecho de código da repetição é executado para cada valor da sequência numérica ou da lista.\n",
    "\"\"\""
   ]
  },
  {
   "cell_type": "code",
   "execution_count": 107,
   "metadata": {},
   "outputs": [
    {
     "name": "stdout",
     "output_type": "stream",
     "text": [
      "Soma= 70\n"
     ]
    }
   ],
   "source": [
    "s=0\n",
    "for x in range(1,20,3):\n",
    "    s=s+x\n",
    "print('Soma=', s)"
   ]
  },
  {
   "cell_type": "code",
   "execution_count": 111,
   "metadata": {},
   "outputs": [
    {
     "name": "stdout",
     "output_type": "stream",
     "text": [
      "[1, 4, 7, 10, 13, 16, 19]\n"
     ]
    }
   ],
   "source": [
    "L=list(range(1,20,3))\n",
    "print(L)"
   ]
  },
  {
   "cell_type": "code",
   "execution_count": 113,
   "metadata": {},
   "outputs": [
    {
     "name": "stdout",
     "output_type": "stream",
     "text": [
      "Média =  7.0\n"
     ]
    }
   ],
   "source": [
    "Lista_notas = [3.4,6.6, 8,9,10,9.5,8.8,4.3]\n",
    "soma=0\n",
    "for nota in Lista_notas:\n",
    "        soma = soma + nota\n",
    "        média = soma/len(Lista_notas)\n",
    "print('Média = ', media)"
   ]
  },
  {
   "cell_type": "code",
   "execution_count": 236,
   "metadata": {},
   "outputs": [
    {
     "name": "stdout",
     "output_type": "stream",
     "text": [
      "462\n"
     ]
    }
   ],
   "source": [
    "# Operando os valores de uma lista com loop for\n",
    "listaB = [32,53,85,10,15,17,19]\n",
    "soma=0\n",
    "for i in listaB:\n",
    "    double_i = i*2\n",
    "    soma += double_i\n",
    "print(soma)    "
   ]
  },
  {
   "cell_type": "code",
   "execution_count": 237,
   "metadata": {},
   "outputs": [
    {
     "name": "stdout",
     "output_type": "stream",
     "text": [
      "[1, 2, 3]\n",
      "[10, 15, 14]\n",
      "[10.1, 8.7, 2.3]\n"
     ]
    }
   ],
   "source": [
    "# Loops em lista de listas\n",
    "listas = [[1,2,3], [10,15,14], [10.1,8.7,2.3]]\n",
    "for valor in listas:\n",
    "    print(valor)        "
   ]
  },
  {
   "cell_type": "code",
   "execution_count": 238,
   "metadata": {},
   "outputs": [
    {
     "name": "stdout",
     "output_type": "stream",
     "text": [
      "5\n"
     ]
    }
   ],
   "source": [
    "# Contando os itens da lista\n",
    "lista = [1,2,3,4,5]\n",
    "count = 0\n",
    "for item in lista:\n",
    "        count += 1\n",
    "print(count)        \n",
    "        "
   ]
  },
  {
   "cell_type": "code",
   "execution_count": 240,
   "metadata": {},
   "outputs": [
    {
     "name": "stdout",
     "output_type": "stream",
     "text": [
      "3\n"
     ]
    }
   ],
   "source": [
    "# Contando o número de colunas de uma lista\n",
    "# Quando chega na última coluna da lista, o progama pára sozinho\n",
    "lst = [[1,2,3],[3,4,5],[5,6,7]]\n",
    "primeira_linha = lst[0]\n",
    "count=0\n",
    "for column in primeira_linha:\n",
    "       count = count +1\n",
    "print(count)       \n",
    "\n",
    "\n"
   ]
  },
  {
   "cell_type": "code",
   "execution_count": 241,
   "metadata": {},
   "outputs": [
    {
     "name": "stdout",
     "output_type": "stream",
     "text": [
      "Número encontrado na lista!\n"
     ]
    }
   ],
   "source": [
    "#Pesquisando em listas\n",
    "listaC = [5,6,7,10,50]\n",
    "\n",
    "#Loop através da lista\n",
    "for item in listaC:\n",
    "    if item ==5:\n",
    "        print(\"Número encontrado na lista!\")\n",
    "        "
   ]
  },
  {
   "cell_type": "code",
   "execution_count": 242,
   "metadata": {},
   "outputs": [
    {
     "name": "stdout",
     "output_type": "stream",
     "text": [
      "k1\n",
      "k2\n",
      "k3\n"
     ]
    }
   ],
   "source": [
    "#Listando as chaves de um dicionário\n",
    "dict = {'k1': 'Python', 'k2': 'R', 'k3': 'Scala'}\n",
    "for item in dict:\n",
    "        print(item)"
   ]
  },
  {
   "cell_type": "code",
   "execution_count": 243,
   "metadata": {},
   "outputs": [
    {
     "name": "stdout",
     "output_type": "stream",
     "text": [
      "k1 Python\n",
      "k2 R\n",
      "k3 Scala\n"
     ]
    }
   ],
   "source": [
    "#Imprimindo chave e valor do dicionário. Usando o método items() para retornar os itens de um dicionário\n",
    "for k,v in dict.items():\n",
    "    print(k,v)\n",
    "    #k é  a chave\n",
    "    #v é o valor\n",
    "    #quando você diz ao interprtador for k,v dentro de um dicionário, \n",
    "    #o python entende que você está se referindo ao par chave-valor."
   ]
  },
  {
   "cell_type": "markdown",
   "metadata": {},
   "source": [
    "## Exercícios de Estrutura de Repetição"
   ]
  },
  {
   "cell_type": "code",
   "execution_count": 114,
   "metadata": {},
   "outputs": [
    {
     "name": "stdout",
     "output_type": "stream",
     "text": [
      "Soma = 18648\n"
     ]
    }
   ],
   "source": [
    "s=0\n",
    "for x in range(3,334,3):\n",
    "    s = s+x\n",
    "print(\"Soma =\", s)    "
   ]
  },
  {
   "cell_type": "code",
   "execution_count": 120,
   "metadata": {},
   "outputs": [
    {
     "name": "stdout",
     "output_type": "stream",
     "text": [
      "Digite a nota 5:5\n",
      "Digite a nota 5:5\n",
      "Digite a nota 5:53\n",
      "Digite a nota 5:5\n",
      "Digite a nota 5:5\n",
      "Digite a nota 5:5\n",
      "Digite a nota 5:5\n",
      "Digite a nota 5:5\n",
      "Digite a nota 5:5\n",
      "Digite a nota 5:5\n",
      "Média= 9.8\n"
     ]
    }
   ],
   "source": [
    "s=0\n",
    "for contator in range(1,11):\n",
    "    nota=float(input(\"Digite a nota \"+str(contador)+\":\"))\n",
    "    s=s+nota\n",
    "print(\"Média=\", s/10)    "
   ]
  },
  {
   "cell_type": "code",
   "execution_count": 124,
   "metadata": {},
   "outputs": [
    {
     "name": "stdout",
     "output_type": "stream",
     "text": [
      "Digite o número da tabudada:4\n",
      " 1 x  4 =   4\n",
      " 2 x  4 =   8\n",
      " 3 x  4 =  12\n",
      " 4 x  4 =  16\n",
      " 5 x  4 =  20\n",
      " 6 x  4 =  24\n",
      " 7 x  4 =  28\n",
      " 8 x  4 =  32\n",
      " 9 x  4 =  36\n",
      "10 x  4 =  40\n"
     ]
    }
   ],
   "source": [
    "numero=int(input(\"Digite o número da tabudada:\"))\n",
    "for sequencia in range(1,11):\n",
    "    print(\"%2d x %2d = %3d\" %(sequencia, numero, sequencia*numero))"
   ]
  },
  {
   "cell_type": "markdown",
   "metadata": {},
   "source": [
    "## FUNÇÕES"
   ]
  },
  {
   "cell_type": "code",
   "execution_count": null,
   "metadata": {},
   "outputs": [],
   "source": [
    "\"\"\"\n",
    "Funções são pequenos trechos de código reutilizáveis.\n",
    "Elas permitem dar nome a um bloco de comandos e executar esse bloco, a partir de qualquer lugar do programa.\n",
    "\"\"\""
   ]
  },
  {
   "cell_type": "code",
   "execution_count": 127,
   "metadata": {},
   "outputs": [
    {
     "name": "stdout",
     "output_type": "stream",
     "text": [
      "Olá mundo!\n"
     ]
    }
   ],
   "source": [
    "def hello():\n",
    "    print(\"Olá mundo!\")\n",
    "hello();    "
   ]
  },
  {
   "cell_type": "code",
   "execution_count": 128,
   "metadata": {},
   "outputs": [
    {
     "name": "stdout",
     "output_type": "stream",
     "text": [
      "7\n"
     ]
    }
   ],
   "source": [
    "def maior(x,y):\n",
    "    if x>y:\n",
    "        print(x)\n",
    "    else:\n",
    "        print(y)\n",
    "        \n",
    "maior(4,7)        "
   ]
  },
  {
   "cell_type": "markdown",
   "metadata": {},
   "source": [
    "## Escopo das variáveis"
   ]
  },
  {
   "cell_type": "code",
   "execution_count": null,
   "metadata": {},
   "outputs": [],
   "source": [
    "\"\"\"\n",
    "Toda variável utilizada dentro de uma função tem escopo local, \n",
    "isto é, ela não será acessível por outras funções ou pelo programa principal.\n",
    "Se houver variável com o nome fora da função, será uma outra variável, completamente independente entre si.\n",
    "\"\"\""
   ]
  },
  {
   "cell_type": "code",
   "execution_count": 130,
   "metadata": {},
   "outputs": [
    {
     "name": "stdout",
     "output_type": "stream",
     "text": [
      "Total soma= 8\n",
      "Total principal 10\n"
     ]
    }
   ],
   "source": [
    "def soma(x,y):\n",
    "        total = x+y\n",
    "        print(\"Total soma=\", total)\n",
    "        \n",
    "#programa principal\n",
    "total = 10\n",
    "soma(3,5)\n",
    "print(\"Total principal\", total)\n",
    "        "
   ]
  },
  {
   "cell_type": "code",
   "execution_count": null,
   "metadata": {},
   "outputs": [],
   "source": [
    "\"\"\"\n",
    "Para uma variável ser compartilhada entre diversas funções e o programa principal, \n",
    "ela deve ser definida como variável global. Para isto, utiliza-se a instrução global para declarar a variável em todas\n",
    "as funções para as quais ela deva estar acessível. O mesmo vale para o programa principal.\n",
    "\"\"\""
   ]
  },
  {
   "cell_type": "code",
   "execution_count": 133,
   "metadata": {},
   "outputs": [
    {
     "name": "stdout",
     "output_type": "stream",
     "text": [
      "Total soma = 8\n",
      "Total principal= 8\n"
     ]
    }
   ],
   "source": [
    "def soma(x,y):\n",
    "    global total\n",
    "    total = x+y\n",
    "    print(\"Total soma =\", total)\n",
    "    \n",
    "#programa principal\n",
    "global total\n",
    "total = 10\n",
    "soma(3,5)\n",
    "print(\"Total principal=\", total)"
   ]
  },
  {
   "cell_type": "markdown",
   "metadata": {},
   "source": [
    "## Retorno de valores"
   ]
  },
  {
   "cell_type": "code",
   "execution_count": null,
   "metadata": {},
   "outputs": [],
   "source": [
    "\"\"\"\n",
    "O comando return é usado para retornar um valor de uma função e encerrá-la. \n",
    "Caso não seja declarado um valor de retorno, a função retorna None (que significa nada, sem valor)\n",
    "\"\"\""
   ]
  },
  {
   "cell_type": "code",
   "execution_count": 134,
   "metadata": {},
   "outputs": [
    {
     "name": "stdout",
     "output_type": "stream",
     "text": [
      "soma= 8\n"
     ]
    }
   ],
   "source": [
    "def soma(x,y):\n",
    "    total = x+y\n",
    "    return total\n",
    "\n",
    "#programa principal\n",
    "s=soma(3,5)\n",
    "print(\"soma=\",s)"
   ]
  },
  {
   "cell_type": "code",
   "execution_count": null,
   "metadata": {},
   "outputs": [],
   "source": [
    "\"\"\"\n",
    "É possível definir um valor padrão para os parâmetros da função. \n",
    "Neste caso, quando o valor é omitido na chamada da função, a variável assume o valor padrão.\n",
    "\"\"\""
   ]
  },
  {
   "cell_type": "code",
   "execution_count": 136,
   "metadata": {},
   "outputs": [
    {
     "data": {
      "text/plain": [
       "50.0"
      ]
     },
     "execution_count": 136,
     "metadata": {},
     "output_type": "execute_result"
    }
   ],
   "source": [
    "def calcula_juros(valor, taxa = 10):\n",
    "    juros = valor*taxa/100\n",
    "    return juros\n",
    "\n",
    "calcula_juros(500)\n"
   ]
  },
  {
   "cell_type": "markdown",
   "metadata": {},
   "source": [
    "## Exercícios de Funções"
   ]
  },
  {
   "cell_type": "code",
   "execution_count": 138,
   "metadata": {},
   "outputs": [
    {
     "name": "stdout",
     "output_type": "stream",
     "text": [
      "______ \n"
     ]
    }
   ],
   "source": [
    "def linha(N):\n",
    "    for i in range(N):\n",
    "        print(end='_')\n",
    "    print(\" \")\n",
    "    \n",
    "linha(6)    "
   ]
  },
  {
   "cell_type": "code",
   "execution_count": 143,
   "metadata": {},
   "outputs": [
    {
     "ename": "TypeError",
     "evalue": "'list' object is not callable",
     "output_type": "error",
     "traceback": [
      "\u001b[0;31m---------------------------------------------------------------------------\u001b[0m",
      "\u001b[0;31mTypeError\u001b[0m                                 Traceback (most recent call last)",
      "\u001b[0;32m<ipython-input-143-87d542fdd437>\u001b[0m in \u001b[0;36m<module>\u001b[0;34m\u001b[0m\n\u001b[1;32m      5\u001b[0m         \u001b[0mprint\u001b[0m\u001b[0;34m(\u001b[0m\u001b[0mcontador\u001b[0m\u001b[0;34m,\u001b[0m \u001b[0;34m')'\u001b[0m\u001b[0;34m,\u001b[0m \u001b[0mvalor\u001b[0m\u001b[0;34m)\u001b[0m\u001b[0;34m\u001b[0m\u001b[0;34m\u001b[0m\u001b[0m\n\u001b[1;32m      6\u001b[0m \u001b[0;34m\u001b[0m\u001b[0m\n\u001b[0;32m----> 7\u001b[0;31m \u001b[0mimprime_lista\u001b[0m\u001b[0;34m(\u001b[0m\u001b[0mL\u001b[0m\u001b[0;34m(\u001b[0m\u001b[0;36m1\u001b[0m\u001b[0;34m,\u001b[0m\u001b[0;36m2\u001b[0m\u001b[0;34m,\u001b[0m\u001b[0;36m3\u001b[0m\u001b[0;34m,\u001b[0m\u001b[0;36m4\u001b[0m\u001b[0;34m)\u001b[0m\u001b[0;34m)\u001b[0m\u001b[0;34m\u001b[0m\u001b[0;34m\u001b[0m\u001b[0m\n\u001b[0m",
      "\u001b[0;31mTypeError\u001b[0m: 'list' object is not callable"
     ]
    }
   ],
   "source": [
    "def imprime_lista(L):\n",
    "    contador=0\n",
    "    for valor in L:\n",
    "        contador = contador + 1 \n",
    "        print(contador, ')', valor)\n",
    "        \n",
    "imprime_lista(L(1,2,3,4))"
   ]
  },
  {
   "cell_type": "code",
   "execution_count": 145,
   "metadata": {
    "scrolled": true
   },
   "outputs": [
    {
     "name": "stdout",
     "output_type": "stream",
     "text": [
      "1 ) 1\n",
      "2 ) 22\n",
      "3 ) 32\n",
      "4 ) 5\n",
      "5 ) 4\n",
      "6 ) 98\n",
      "7 ) 52\n"
     ]
    }
   ],
   "source": [
    "imprime_lista(L=[1,22,32,5,4,98,52])"
   ]
  },
  {
   "cell_type": "code",
   "execution_count": 151,
   "metadata": {},
   "outputs": [
    {
     "data": {
      "text/plain": [
       "4.0"
      ]
     },
     "execution_count": 151,
     "metadata": {},
     "output_type": "execute_result"
    }
   ],
   "source": [
    "def media_lista(L):\n",
    "    somador=0\n",
    "    for valor in L:\n",
    "            somador = somador + valor\n",
    "            #print(somador)\n",
    "            #print(valor)\n",
    "            #print(len(L))\n",
    "    return somador/len(L)\n",
    "\n",
    "media_lista(L=[8,2,2])"
   ]
  },
  {
   "cell_type": "code",
   "execution_count": 153,
   "metadata": {},
   "outputs": [
    {
     "name": "stdout",
     "output_type": "stream",
     "text": [
      "Happy New Year!!! Feliz Ano Novo!!! Salve 2020!!!\n"
     ]
    }
   ],
   "source": [
    "print(\"Happy New Year!!! Feliz Ano Novo!!! Salve 2020!!!\")"
   ]
  },
  {
   "cell_type": "markdown",
   "metadata": {},
   "source": [
    "## Exercícios  de Variáveis, Tipos e Estruturas de Dados"
   ]
  },
  {
   "cell_type": "code",
   "execution_count": 204,
   "metadata": {},
   "outputs": [
    {
     "name": "stdout",
     "output_type": "stream",
     "text": [
      "[1, 2, 3, 4, 5, 6, 7, 8, 9, 10]\n"
     ]
    },
    {
     "data": {
      "text/plain": [
       "[1, 2, 3, 4, 5, 6, 7, 8, 9, 10]"
      ]
     },
     "execution_count": 204,
     "metadata": {},
     "output_type": "execute_result"
    }
   ],
   "source": [
    "# Exercício 1 - Imprima na tela os números de 1 a 10. Use uma lista para armazenar os números.\n",
    "minhaLista=[1,2,3,4,5,6,7,8,9,10]\n",
    "print(minhaLista)\n",
    "minhaLista\n"
   ]
  },
  {
   "cell_type": "code",
   "execution_count": 203,
   "metadata": {},
   "outputs": [
    {
     "data": {
      "text/plain": [
       "['dado', 'lápis', 'borracha', 'caneta', 'régua']"
      ]
     },
     "execution_count": 203,
     "metadata": {},
     "output_type": "execute_result"
    }
   ],
   "source": [
    "# Exercício 2 - Crie uma lista de 5 objetos e imprima na tela\n",
    "lista5=['dado', 'lápis', 'borracha', 'caneta', 'régua']\n",
    "lista5"
   ]
  },
  {
   "cell_type": "code",
   "execution_count": 209,
   "metadata": {},
   "outputs": [
    {
     "name": "stdout",
     "output_type": "stream",
     "text": [
      "Ciência de Dados\n"
     ]
    }
   ],
   "source": [
    "# Exercício 3 - Crie duas strings e concatene as duas em uma terceira string\n",
    "string1 = 'Ciência'\n",
    "string2 = ' de Dados'\n",
    "string3 = string1 + string2\n",
    "string3\n",
    "print(string3)"
   ]
  },
  {
   "cell_type": "code",
   "execution_count": 210,
   "metadata": {},
   "outputs": [
    {
     "name": "stdout",
     "output_type": "stream",
     "text": [
      "(1, 2, 2, 3, 4, 4, 4, 5)\n"
     ]
    }
   ],
   "source": [
    "# Exercício 4 - Crie uma tupla com os seguintes elementos: 1, 2, 2, 3, 4, 4, 4, 5 e depois utilize a função count do \n",
    "# objeto tupla para verificar quantas vezes o número 4 aparece na tupla\n",
    "\n",
    "T = ( 1, 2, 2, 3, 4, 4, 4, 5)\n",
    "print(T)\n"
   ]
  },
  {
   "cell_type": "code",
   "execution_count": 211,
   "metadata": {},
   "outputs": [
    {
     "data": {
      "text/plain": [
       "3"
      ]
     },
     "execution_count": 211,
     "metadata": {},
     "output_type": "execute_result"
    }
   ],
   "source": [
    "T.count(4)"
   ]
  },
  {
   "cell_type": "code",
   "execution_count": 212,
   "metadata": {},
   "outputs": [
    {
     "name": "stdout",
     "output_type": "stream",
     "text": [
      "{}\n"
     ]
    }
   ],
   "source": [
    "# Exercício 5 - Crie um dicionário vazio e imprima na tela\n",
    "\n",
    "D={}\n",
    "print(D)\n"
   ]
  },
  {
   "cell_type": "code",
   "execution_count": 216,
   "metadata": {},
   "outputs": [
    {
     "data": {
      "text/plain": [
       "{'Nome': 'Luciana', 'Matrícula': '89292693', 'Lotação': 'GDMT'}"
      ]
     },
     "execution_count": 216,
     "metadata": {},
     "output_type": "execute_result"
    }
   ],
   "source": [
    "# Exercício 6 - Crie um dicionário com 3 chaves e 3 valores e imprima na tela\n",
    "\n",
    "D={\"Nome\": 'Luciana', \"Matrícula\": '89292693', \"Lotação\": 'GDMT'}\n",
    "D\n"
   ]
  },
  {
   "cell_type": "code",
   "execution_count": null,
   "metadata": {},
   "outputs": [],
   "source": [
    "# Exercício 7 - Adicione mais um elemento ao dicionário criado no exercício anterior e imprima na tela"
   ]
  },
  {
   "cell_type": "code",
   "execution_count": 217,
   "metadata": {},
   "outputs": [
    {
     "data": {
      "text/plain": [
       "{'Data de Admissão': '03-04-2008'}"
      ]
     },
     "execution_count": 217,
     "metadata": {},
     "output_type": "execute_result"
    }
   ],
   "source": [
    "E={\"Data de Admissão\": '03-04-2008'}\n",
    "E"
   ]
  },
  {
   "cell_type": "code",
   "execution_count": 218,
   "metadata": {},
   "outputs": [],
   "source": [
    "D.update(E)\n"
   ]
  },
  {
   "cell_type": "code",
   "execution_count": 219,
   "metadata": {},
   "outputs": [
    {
     "data": {
      "text/plain": [
       "{'Nome': 'Luciana',\n",
       " 'Matrícula': '89292693',\n",
       " 'Lotação': 'GDMT',\n",
       " 'Data de Admissão': '03-04-2008'}"
      ]
     },
     "execution_count": 219,
     "metadata": {},
     "output_type": "execute_result"
    }
   ],
   "source": [
    "D"
   ]
  },
  {
   "cell_type": "code",
   "execution_count": 221,
   "metadata": {},
   "outputs": [
    {
     "data": {
      "text/plain": [
       "{'Nota1': 10, 'Nota2': 9, 'Média': [10, 2]}"
      ]
     },
     "execution_count": 221,
     "metadata": {},
     "output_type": "execute_result"
    }
   ],
   "source": [
    "# Exercício 8 - Crie um dicionário com 3 chaves e 3 valores. Um dos valores deve ser uma lista de 2 elementos numéricos. \n",
    "# Imprima o dicionário na tela.\n",
    "\n",
    "D={\"Nota1\": 10, \"Nota2\": 9, \"Média\": [10,2]}\n",
    "D"
   ]
  },
  {
   "cell_type": "code",
   "execution_count": 234,
   "metadata": {},
   "outputs": [
    {
     "name": "stdout",
     "output_type": "stream",
     "text": [
      "Digite o nome da disciplina: Geografia\n",
      "Digite a nota final (entre 0 e 100): 98\n",
      "Digite o semestre (1 a 4): 2\n",
      "Você foi aprovado em Geografia com média final '98'!\n"
     ]
    }
   ],
   "source": [
    "\n",
    "# Usando mais de uma condição na cláusula if e introduzindo Placeholders\n",
    "# Placeholder: emitir mensagens customizadas com o uso do %s e %r\n",
    "# Lê o valor da variável diretamente do prompt de comando e dá a chance de incluir na mensagem,\n",
    "# aquilo que o usuário digitou durante a execução da mensagem\n",
    "\n",
    "# Atenção: cuidado como excesso de IFs, é provável que seu programa tenha algum problema...\n",
    "# Ou talvez você precise escrever melhor seu algoritmo, \n",
    "# fazer um breakdown -  um detalhamento um pouco mais profundo - para aencontrar uma estrugtura melhor de código.\n",
    "\n",
    "disciplina = input('Digite o nome da disciplina: ')\n",
    "nota_final = input('Digite a nota final (entre 0 e 100): ')\n",
    "semestre = input('Digite o semestre (1 a 4): ')\n",
    "\n",
    "if disciplina == 'Geografia' and nota_final >= '50' and int(semestre) != 1:\n",
    "        print('Você foi aprovado em %s com média final %r!' %(disciplina, nota_final))\n",
    "else:\n",
    "    print('Lamento, acho que você precisa estudar mais!')        \n",
    "    "
   ]
  },
  {
   "cell_type": "code",
   "execution_count": 222,
   "metadata": {},
   "outputs": [
    {
     "data": {
      "text/plain": [
       "['abacate', (10, 15), {'nota1': 10, 'nota2': 8}, 3.1415]"
      ]
     },
     "execution_count": 222,
     "metadata": {},
     "output_type": "execute_result"
    }
   ],
   "source": [
    "# Exercício 9 - Crie uma lista de 4 elementos. O primeiro elemento deve ser uma string, \n",
    "# o segundo uma tupla de 2 elementos, o terceiro um dcionário com 2 chaves e 2 valores e \n",
    "# o quarto elemento um valor do tipo float.\n",
    "# Imprima a lista na tela.\n",
    "\n",
    "Lista=['abacate', (10, 15), {\"nota1\": 10, \"nota2\": 8}, 3.1415]\n",
    "Lista"
   ]
  },
  {
   "cell_type": "code",
   "execution_count": 224,
   "metadata": {},
   "outputs": [
    {
     "data": {
      "text/plain": [
       "'Cientista de Dados'"
      ]
     },
     "execution_count": 224,
     "metadata": {},
     "output_type": "execute_result"
    }
   ],
   "source": [
    "# Exercício 10 - Considere a string abaixo. Imprima na tela apenas os caracteres da posição 1 a 18.\n",
    "frase = 'Cientista de Dados é o profissional do século XXI'\n",
    "frase[0:18]"
   ]
  },
  {
   "cell_type": "code",
   "execution_count": 266,
   "metadata": {},
   "outputs": [],
   "source": [
    "#Variável Global\n",
    "var_global = 10\n",
    "\n",
    "def multiply(num1, num2):\n",
    "        var_global = num1 * num2 #Esta é uma variável global\n",
    "        print(var_global)\n",
    "        \n",
    "# Observe que mesmo multiplicando os dois parâmetros e colocando dentro da var_global,\n",
    "# se chamarmos var_global de fora da função, ela continua com o valor da inicialização.\n",
    "# Isso ocorre porque var_global é uma variável global. Ela foi \"batizada\" com este nome intencionalmente."
   ]
  },
  {
   "cell_type": "code",
   "execution_count": 268,
   "metadata": {},
   "outputs": [
    {
     "name": "stdout",
     "output_type": "stream",
     "text": [
      "125\n"
     ]
    },
    {
     "data": {
      "text/plain": [
       "10"
      ]
     },
     "execution_count": 268,
     "metadata": {},
     "output_type": "execute_result"
    }
   ],
   "source": [
    "# Chamada da função\n",
    "multiply(5,25)\n",
    "\n",
    "var_global"
   ]
  },
  {
   "cell_type": "code",
   "execution_count": 269,
   "metadata": {},
   "outputs": [],
   "source": [
    "# Criando funções usando outras funções\n",
    "\n",
    "# Importando o pacote de funções matemáticas (funções built-in, prontas...)\n",
    "import math\n",
    "\n",
    "def numPrimo(num):\n",
    "        \"\"\"\n",
    "        Verificando se é um número primo\n",
    "        \"\"\"\n",
    "        if (num % 2) == 0 and num >2:\n",
    "            return \"Este número não é primo\"\n",
    "        for i in range(3, int(math.sqrt(num)) + 1, 2):\n",
    "            #começa no três e vai incrementando de dois em dois, trazendo o quadrado (square) de um número \n",
    "            if (num % i) == 0:\n",
    "                    return \"Este número não é primo\"\n",
    "            return \"Este número é primo\""
   ]
  },
  {
   "cell_type": "code",
   "execution_count": 270,
   "metadata": {},
   "outputs": [
    {
     "data": {
      "text/plain": [
       "'Este número é primo'"
      ]
     },
     "execution_count": 270,
     "metadata": {},
     "output_type": "execute_result"
    }
   ],
   "source": [
    "numPrimo(541)"
   ]
  },
  {
   "cell_type": "code",
   "execution_count": 271,
   "metadata": {},
   "outputs": [],
   "source": [
    "# Fazendo split dos dados\n",
    "def split_string(text):\n",
    "    return text.split(\" \")"
   ]
  },
  {
   "cell_type": "code",
   "execution_count": 272,
   "metadata": {},
   "outputs": [],
   "source": [
    "texto = \"Está função será bastante útil para separar grandes volumes de dados.\""
   ]
  },
  {
   "cell_type": "code",
   "execution_count": 273,
   "metadata": {},
   "outputs": [
    {
     "name": "stdout",
     "output_type": "stream",
     "text": [
      "['Está', 'função', 'será', 'bastante', 'útil', 'para', 'separar', 'grandes', 'volumes', 'de', 'dados.']\n"
     ]
    }
   ],
   "source": [
    "print(split_string(texto))"
   ]
  },
  {
   "cell_type": "code",
   "execution_count": 274,
   "metadata": {},
   "outputs": [
    {
     "name": "stdout",
     "output_type": "stream",
     "text": [
      "['Está', 'função', 'será', 'bastante', 'útil', 'para', 'separar', 'grandes', 'volumes', 'de', 'dados.']\n"
     ]
    }
   ],
   "source": [
    "# Podemos atribuir o output de uma função, para uma variável\n",
    "token = print(split_string(texto))\n"
   ]
  },
  {
   "cell_type": "code",
   "execution_count": 277,
   "metadata": {},
   "outputs": [],
   "source": [
    "token"
   ]
  },
  {
   "cell_type": "code",
   "execution_count": 284,
   "metadata": {},
   "outputs": [
    {
     "data": {
      "text/plain": [
       "'este texto deveria estar todo em lowercase'"
      ]
     },
     "execution_count": 284,
     "metadata": {},
     "output_type": "execute_result"
    }
   ],
   "source": [
    "caixa_baixa = \"Este Texto Deveria Estar Todo Em LowerCase\"\n",
    "\n",
    "def lowerCase(text):\n",
    "    return text.lower()\n",
    "\n",
    "lowercased_string = lowerCase(caixa_baixa)\n",
    "\n",
    "lowercased_string"
   ]
  },
  {
   "cell_type": "code",
   "execution_count": 285,
   "metadata": {},
   "outputs": [],
   "source": [
    "# Funções com número variável de argumentos\n",
    "def printVarInfo( arg1, *vartuple ):\n",
    "   # Imprimindo o valor do primeiro argumento\n",
    "    print (\"O parâmetro passado foi: \", arg1)\n",
    "   \n",
    "   # Imprimindo o valor do segundo argumento \n",
    "    for item in vartuple:\n",
    "        print (\"O parâmetro passado foi: \", item)\n",
    "    return;"
   ]
  },
  {
   "cell_type": "code",
   "execution_count": 286,
   "metadata": {},
   "outputs": [
    {
     "name": "stdout",
     "output_type": "stream",
     "text": [
      "O parâmetro passado foi:  10\n"
     ]
    }
   ],
   "source": [
    "# Fazendo chamada à função usando apenas 1 argumento\n",
    "printVarInfo(10)"
   ]
  },
  {
   "cell_type": "code",
   "execution_count": 287,
   "metadata": {},
   "outputs": [
    {
     "name": "stdout",
     "output_type": "stream",
     "text": [
      "O parâmetro passado foi:  Chocolate\n",
      "O parâmetro passado foi:  Morango\n",
      "O parâmetro passado foi:  Banana\n"
     ]
    }
   ],
   "source": [
    "printVarInfo('Chocolate', 'Morango', 'Banana')"
   ]
  },
  {
   "cell_type": "markdown",
   "metadata": {},
   "source": [
    "## Exercícios de Loops e Condicionais"
   ]
  },
  {
   "cell_type": "code",
   "execution_count": 288,
   "metadata": {},
   "outputs": [
    {
     "name": "stdout",
     "output_type": "stream",
     "text": [
      "Digite o dia da semana: 5\n",
      "Você precisa trabalhar!\n"
     ]
    }
   ],
   "source": [
    "# Exercício 1 - Crie uma estrutura que pergunte ao usuário qual o dia da semana. Se o dia for igual a Domingo ou \n",
    "# igual a sábado, imprima na tela \"Hoje é dia de descanso\", caso contrário imprima na tela \"Você precisa trabalhar!\"\n",
    "dia = input('Digite o dia da semana: ')\n",
    "if dia == 'Domingo' or dia == 'Sábado':\n",
    "    print(\"Hoje é dia de descanso\")\n",
    "else:\n",
    "    print(\"Você precisa trabalhar!\")"
   ]
  },
  {
   "cell_type": "code",
   "execution_count": 289,
   "metadata": {},
   "outputs": [
    {
     "name": "stdout",
     "output_type": "stream",
     "text": [
      "Morango faz parte da lista de frutas\n"
     ]
    }
   ],
   "source": [
    "# Exercício 2 - Crie uma lista de 5 frutas e verifique se a fruta 'Morango' faz parte da lista\n",
    "lista = ['Laranja', 'Maça', 'Abacaxi', 'Uva', 'Morango']\n",
    "for fruta in lista:\n",
    "    if fruta == 'Morango':\n",
    "        print(\"Morango faz parte da lista de frutas\")"
   ]
  },
  {
   "cell_type": "code",
   "execution_count": 290,
   "metadata": {},
   "outputs": [
    {
     "name": "stdout",
     "output_type": "stream",
     "text": [
      "[2, 4, 6, 8]\n"
     ]
    }
   ],
   "source": [
    "# Exercício 3 - Crie uma tupla de 4 elementos, multiplique cada elemento da tupla por 2 e guarde os resultados em uma \n",
    "# lista\n",
    "tup1 = (1, 2, 3, 4)\n",
    "lst1 = []\n",
    "for i in tup1:\n",
    "    novo_valor = i * 2\n",
    "    lst1.append(novo_valor)\n",
    "print(lst1)"
   ]
  },
  {
   "cell_type": "code",
   "execution_count": 291,
   "metadata": {},
   "outputs": [
    {
     "name": "stdout",
     "output_type": "stream",
     "text": [
      "100\n",
      "102\n",
      "104\n",
      "106\n",
      "108\n",
      "110\n",
      "112\n",
      "114\n",
      "116\n",
      "118\n",
      "120\n",
      "122\n",
      "124\n",
      "126\n",
      "128\n",
      "130\n",
      "132\n",
      "134\n",
      "136\n",
      "138\n",
      "140\n",
      "142\n",
      "144\n",
      "146\n",
      "148\n",
      "150\n"
     ]
    }
   ],
   "source": [
    "# Exercício 4 - Crie uma sequência de números pares entre 100 e 150 e imprima na tela\n",
    "for i in range(100, 151, 2):\n",
    "    print(i)"
   ]
  },
  {
   "cell_type": "code",
   "execution_count": 292,
   "metadata": {},
   "outputs": [
    {
     "name": "stdout",
     "output_type": "stream",
     "text": [
      "40\n",
      "39\n",
      "38\n",
      "37\n",
      "36\n"
     ]
    }
   ],
   "source": [
    "# Exercício 5 - Crie uma variável chamada temperatura e atribua o valor 40. Enquanto temperatura for maior que 35, \n",
    "# imprima as temperaturas na tela\n",
    "temperatura = 40  \n",
    "while temperatura > 35: \n",
    "    print(temperatura)\n",
    "    temperatura = temperatura - 1"
   ]
  },
  {
   "cell_type": "code",
   "execution_count": 293,
   "metadata": {},
   "outputs": [
    {
     "name": "stdout",
     "output_type": "stream",
     "text": [
      "0\n",
      "1\n",
      "2\n",
      "3\n",
      "4\n",
      "5\n",
      "6\n",
      "7\n",
      "8\n",
      "9\n",
      "10\n",
      "11\n",
      "12\n",
      "13\n",
      "14\n",
      "15\n",
      "16\n",
      "17\n",
      "18\n",
      "19\n",
      "20\n",
      "21\n",
      "22\n"
     ]
    }
   ],
   "source": [
    "# Exercício 6 - Crie uma variável chamada contador = 0. Enquanto counter for menor que 100, imprima os valores na tela,\n",
    "# mas quando for encontrado o valor 23, interrompa a execução do programa\n",
    "contador = 0\n",
    "while contador < 100:\n",
    "    if contador == 23:\n",
    "        break\n",
    "    print(contador)\n",
    "    contador += 1"
   ]
  },
  {
   "cell_type": "code",
   "execution_count": 294,
   "metadata": {},
   "outputs": [
    {
     "name": "stdout",
     "output_type": "stream",
     "text": [
      "[4, 6, 8, 10, 12, 14, 16, 18, 20]\n"
     ]
    }
   ],
   "source": [
    "# Exercício 7 - Crie uma lista vazia e uma variável com valor 4. Enquanto o valor da variável for menor ou igual a 20, \n",
    "# adicione à lista, apenas os valores pares e imprima a lista\n",
    "numeros = list()\n",
    "i = 4\n",
    "while (i <= 20):\n",
    "    numeros.append(i)\n",
    "    i = i+2\n",
    "print(numeros)"
   ]
  },
  {
   "cell_type": "code",
   "execution_count": 295,
   "metadata": {},
   "outputs": [
    {
     "name": "stdout",
     "output_type": "stream",
     "text": [
      "[5, 7, 9, 11, 13, 15, 17, 19, 21, 23, 25, 27, 29, 31, 33, 35, 37, 39, 41, 43]\n"
     ]
    }
   ],
   "source": [
    "# Exercício 8 - Transforme o resultado desta função range em uma lista: range(5, 45, 2)\n",
    "nums = range(5, 45, 2)\n",
    "print(list(nums))"
   ]
  },
  {
   "cell_type": "code",
   "execution_count": 297,
   "metadata": {},
   "outputs": [
    {
     "name": "stdout",
     "output_type": "stream",
     "text": [
      "Qual a temperatura? 40\n",
      "Vista roupas leves.\n"
     ]
    }
   ],
   "source": [
    "# Exercício 9 - Faça a correção dos erros no código abaixo e execute o programa. Dica: são 3 erros.\n",
    "temperatura = float(input('Qual a temperatura? '))\n",
    "if temperatura > 30:\n",
    "    print('Vista roupas leves.')\n",
    "else:\n",
    "    print('Busque seus casacos.')"
   ]
  },
  {
   "cell_type": "code",
   "execution_count": 298,
   "metadata": {},
   "outputs": [
    {
     "name": "stdout",
     "output_type": "stream",
     "text": [
      "O caracter r aparece 6 vezes na frase.\n"
     ]
    }
   ],
   "source": [
    "# Exercício 10 - Faça um programa que conte quantas vezes a letra \"r\" aparece na frase abaixo. \n",
    "# Use um placeholder na sua instrução de impressão\n",
    "\n",
    "# “É melhor, muito melhor, contentar-se com a realidade; se ela não é tão brilhante como os sonhos, tem pelo menos a \n",
    "# vantagem de existir.” (Machado de Assis)\n",
    "\n",
    "frase = \"É melhor, muito melhor, contentar-se com a realidade; se ela não é tão brilhante como os sonhos, tem pelo menos a vantagem de existir.\" \n",
    "count = 0\n",
    "for caracter in frase:\n",
    "    if caracter == 'r':\n",
    "        count += 1\n",
    "print(\"O caracter r aparece %s vezes na frase.\" %(count))"
   ]
  },
  {
   "cell_type": "markdown",
   "metadata": {},
   "source": [
    "## Expressões LAMBDA"
   ]
  },
  {
   "cell_type": "code",
   "execution_count": null,
   "metadata": {},
   "outputs": [],
   "source": [
    "# Função in-line, função anônima... conhecida como função Lambda\n",
    "# Podemos criar funções ad-hoc (significado: para um fim específico) \n",
    "# sem a necessidade de definir uma função usando a palavra reservada def.\n",
    "\n",
    "# Expressões lambda realmente são úteis, quando usadas em conjunto com as funções map(), filter() e reduce().\n",
    "\n",
    "# Expressões lambda são usadas para criar funções simples. \n",
    "\n",
    "# São também chamadas funções in-line ou apenas anônimas.\n",
    "\n",
    "\n",
    "# Diferenças:\n",
    "\n",
    "# def -> cria um objeto e atribui um nome a ele (nome da função)\n",
    "\n",
    "# lambda -> cria um objeto, mas retorna como um resultado em tempo de execução."
   ]
  },
  {
   "cell_type": "code",
   "execution_count": 300,
   "metadata": {},
   "outputs": [],
   "source": [
    "\n",
    "first = lambda s: s[0]\n",
    "\n"
   ]
  },
  {
   "cell_type": "code",
   "execution_count": 301,
   "metadata": {},
   "outputs": [
    {
     "data": {
      "text/plain": [
       "'P'"
      ]
     },
     "execution_count": 301,
     "metadata": {},
     "output_type": "execute_result"
    }
   ],
   "source": [
    "first('Python')"
   ]
  },
  {
   "cell_type": "code",
   "execution_count": 302,
   "metadata": {},
   "outputs": [
    {
     "data": {
      "text/plain": [
       "'nohtyP'"
      ]
     },
     "execution_count": 302,
     "metadata": {},
     "output_type": "execute_result"
    }
   ],
   "source": [
    "reverso = lambda s: s[::-1]\n",
    "reverso('Python')"
   ]
  },
  {
   "cell_type": "code",
   "execution_count": 303,
   "metadata": {},
   "outputs": [
    {
     "data": {
      "text/plain": [
       "5"
      ]
     },
     "execution_count": 303,
     "metadata": {},
     "output_type": "execute_result"
    }
   ],
   "source": [
    "addNum = lambda x,y : x+y\n",
    "addNum(2,3)"
   ]
  }
 ],
 "metadata": {
  "kernelspec": {
   "display_name": "Python 3",
   "language": "python",
   "name": "python3"
  },
  "language_info": {
   "codemirror_mode": {
    "name": "ipython",
    "version": 3
   },
   "file_extension": ".py",
   "mimetype": "text/x-python",
   "name": "python",
   "nbconvert_exporter": "python",
   "pygments_lexer": "ipython3",
   "version": "3.7.0"
  }
 },
 "nbformat": 4,
 "nbformat_minor": 2
}
